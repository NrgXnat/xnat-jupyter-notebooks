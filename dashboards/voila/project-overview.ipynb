{
 "cells": [
  {
   "cell_type": "markdown",
   "id": "76b8274d-018e-48c5-9fe3-6ebdb5c3f3b5",
   "metadata": {},
   "source": [
    "# Project Overview\n",
    "\n",
    "This notebook displays the gender distributions and age ranges of subjects in and XNAT project. The gender and age of each subject is retrieved with [XNATpy](https://xnat.readthedocs.io/en/latest/). "
   ]
  },
  {
   "cell_type": "code",
   "execution_count": 1,
   "id": "205d3fd7-b89e-47ae-afeb-b5c5fd4b49eb",
   "metadata": {},
   "outputs": [],
   "source": [
    "import os\n",
    "import pandas as pd\n",
    "import matplotlib.pyplot as plt\n",
    "import xnat\n",
    "import ipywidgets as widgets\n",
    "import numpy as np\n",
    "import pydicom\n",
    "import re\n",
    "from ipywidgets import interact, interactive, fixed, interact_manual"
   ]
  },
  {
   "cell_type": "code",
   "execution_count": 2,
   "id": "6d2bda5a-1390-4ba0-bb81-4dac1c4d8ea5",
   "metadata": {},
   "outputs": [],
   "source": [
    "if os.environ['XNAT_XSI_TYPE'] != 'xnat:projectData':\n",
    "    raise Exception('Must be started from an XNAT project.')\n",
    "\n",
    "project_id = os.environ['XNAT_ITEM_ID']"
   ]
  },
  {
   "cell_type": "code",
   "execution_count": 3,
   "id": "818e6d3f-ae1d-4010-aa83-6f34c16cb61a",
   "metadata": {},
   "outputs": [],
   "source": [
    "connection = xnat.connect()\n",
    "project = connection.projects[project_id]"
   ]
  },
  {
   "cell_type": "code",
   "execution_count": 4,
   "id": "1253368e",
   "metadata": {},
   "outputs": [
    {
     "name": "stdout",
     "output_type": "stream",
     "text": [
      "XNAT Project: C4KC-KiTS\n",
      "Project Description: This collection contains CT scans and segmentations from subjects from the training set of the 2019 Kidney and Kidney Tumor Segmentation Challenge (KiTS19). The challenge aimed to accelerate progress in automatic 3D semantic segmentation by releasing a dataset of CT scans for 210 patients with manual semantic segmentations of the kidneys and tumors in the corticomedullary phase.\n",
      "Subject count: 210\n",
      "Experiment count: 4\n"
     ]
    }
   ],
   "source": [
    "print(f\"XNAT Project: {project.name}\")\n",
    "print(f\"Project Description: {project.description}\")\n",
    "print(f\"Subject count: {len(project.subjects)}\")\n",
    "print(f\"Experiment count: {len(project.experiments)}\")"
   ]
  },
  {
   "cell_type": "code",
   "execution_count": 5,
   "id": "e0a66d59-4086-4f2f-b7f7-e59ea29dd455",
   "metadata": {},
   "outputs": [],
   "source": [
    "subject_data = {\n",
    "    'id': [],\n",
    "    'gender': [],\n",
    "    'age': []\n",
    "}\n",
    "\n",
    "for subject in project.subjects.values():\n",
    "    subject_data['id'].append(subject.label)\n",
    "    subject_data['gender'].append(subject.demographics.gender)\n",
    "    subject_data['age'].append(subject.demographics.age)\n",
    "    \n",
    "df = pd.DataFrame(subject_data)"
   ]
  },
  {
   "cell_type": "markdown",
   "id": "2b0c8295",
   "metadata": {},
   "source": [
    "## Subject Data"
   ]
  },
  {
   "cell_type": "code",
   "execution_count": 6,
   "id": "600d118a",
   "metadata": {},
   "outputs": [
    {
     "data": {
      "text/html": [
       "<div>\n",
       "<style scoped>\n",
       "    .dataframe tbody tr th:only-of-type {\n",
       "        vertical-align: middle;\n",
       "    }\n",
       "\n",
       "    .dataframe tbody tr th {\n",
       "        vertical-align: top;\n",
       "    }\n",
       "\n",
       "    .dataframe thead th {\n",
       "        text-align: right;\n",
       "    }\n",
       "</style>\n",
       "<table border=\"1\" class=\"dataframe\">\n",
       "  <thead>\n",
       "    <tr style=\"text-align: right;\">\n",
       "      <th></th>\n",
       "      <th>id</th>\n",
       "      <th>gender</th>\n",
       "      <th>age</th>\n",
       "    </tr>\n",
       "  </thead>\n",
       "  <tbody>\n",
       "    <tr>\n",
       "      <th>0</th>\n",
       "      <td>KiTS-00000</td>\n",
       "      <td>male</td>\n",
       "      <td>49</td>\n",
       "    </tr>\n",
       "    <tr>\n",
       "      <th>1</th>\n",
       "      <td>KiTS-00001</td>\n",
       "      <td>male</td>\n",
       "      <td>50</td>\n",
       "    </tr>\n",
       "    <tr>\n",
       "      <th>2</th>\n",
       "      <td>KiTS-00002</td>\n",
       "      <td>male</td>\n",
       "      <td>74</td>\n",
       "    </tr>\n",
       "    <tr>\n",
       "      <th>3</th>\n",
       "      <td>KiTS-00003</td>\n",
       "      <td>female</td>\n",
       "      <td>44</td>\n",
       "    </tr>\n",
       "    <tr>\n",
       "      <th>4</th>\n",
       "      <td>KiTS-00004</td>\n",
       "      <td>male</td>\n",
       "      <td>73</td>\n",
       "    </tr>\n",
       "    <tr>\n",
       "      <th>...</th>\n",
       "      <td>...</td>\n",
       "      <td>...</td>\n",
       "      <td>...</td>\n",
       "    </tr>\n",
       "    <tr>\n",
       "      <th>205</th>\n",
       "      <td>KiTS-00194</td>\n",
       "      <td>male</td>\n",
       "      <td>73</td>\n",
       "    </tr>\n",
       "    <tr>\n",
       "      <th>206</th>\n",
       "      <td>KiTS-00197</td>\n",
       "      <td>male</td>\n",
       "      <td>84</td>\n",
       "    </tr>\n",
       "    <tr>\n",
       "      <th>207</th>\n",
       "      <td>KiTS-00198</td>\n",
       "      <td>male</td>\n",
       "      <td>79</td>\n",
       "    </tr>\n",
       "    <tr>\n",
       "      <th>208</th>\n",
       "      <td>KiTS-00203</td>\n",
       "      <td>female</td>\n",
       "      <td>81</td>\n",
       "    </tr>\n",
       "    <tr>\n",
       "      <th>209</th>\n",
       "      <td>KiTS-00208</td>\n",
       "      <td>male</td>\n",
       "      <td>73</td>\n",
       "    </tr>\n",
       "  </tbody>\n",
       "</table>\n",
       "<p>210 rows × 3 columns</p>\n",
       "</div>"
      ],
      "text/plain": [
       "             id  gender  age\n",
       "0    KiTS-00000    male   49\n",
       "1    KiTS-00001    male   50\n",
       "2    KiTS-00002    male   74\n",
       "3    KiTS-00003  female   44\n",
       "4    KiTS-00004    male   73\n",
       "..          ...     ...  ...\n",
       "205  KiTS-00194    male   73\n",
       "206  KiTS-00197    male   84\n",
       "207  KiTS-00198    male   79\n",
       "208  KiTS-00203  female   81\n",
       "209  KiTS-00208    male   73\n",
       "\n",
       "[210 rows x 3 columns]"
      ]
     },
     "execution_count": 6,
     "metadata": {},
     "output_type": "execute_result"
    }
   ],
   "source": [
    "df"
   ]
  },
  {
   "cell_type": "code",
   "execution_count": 7,
   "id": "fcc4e29c-cd86-4560-acea-0614e0398367",
   "metadata": {},
   "outputs": [
    {
     "data": {
      "image/png": "[encoded data removed]",
      "text/plain": [
       "<Figure size 640x480 with 1 Axes>"
      ]
     },
     "metadata": {},
     "output_type": "display_data"
    }
   ],
   "source": [
    "ages = df['age']\n",
    "\n",
    "# Create the histogram\n",
    "plt.hist(ages, bins=10, edgecolor='black')\n",
    "\n",
    "# Set the labels and title\n",
    "plt.xlabel('Age')\n",
    "plt.ylabel('Frequency')\n",
    "plt.title('Subject Age Distribution')\n",
    "\n",
    "# Display the histogram\n",
    "plt.show()"
   ]
  },
  {
   "cell_type": "code",
   "execution_count": 8,
   "id": "627429bc-c388-43ab-b7d5-0a61216f1a7d",
   "metadata": {},
   "outputs": [
    {
     "data": {
      "image/png": "[encoded data removed]",
      "text/plain": [
       "<Figure size 640x480 with 1 Axes>"
      ]
     },
     "metadata": {},
     "output_type": "display_data"
    }
   ],
   "source": [
    "genders = df['gender'].value_counts()\n",
    "\n",
    "# Create the pie chart\n",
    "plt.pie(genders, labels=genders.index, autopct='%1.1f%%')\n",
    "\n",
    "# Set the title\n",
    "plt.title('Subject Gender Distribution')\n",
    "\n",
    "# Display the pie chart\n",
    "plt.show()\n"
   ]
  },
  {
   "cell_type": "markdown",
   "id": "8872c07c-6c95-481e-869f-6d5b366e34e2",
   "metadata": {},
   "source": [
    "## View image sessions\n",
    "Select an image session."
   ]
  },
  {
   "cell_type": "code",
   "execution_count": 9,
   "id": "e8e5086c-8366-4baa-b0a9-22f6b1dcf067",
   "metadata": {},
   "outputs": [
    {
     "data": {
      "application/vnd.jupyter.widget-view+json": {
       "model_id": "5348c7926ca4459b9cd93d5893c6610e",
       "version_major": 2,
       "version_minor": 0
      },
      "text/plain": [
       "interactive(children=(Dropdown(description='Session:', options=('', 'KiTS-00001-CT-49621', 'KiTS-00002-CT-0792…"
      ]
     },
     "metadata": {},
     "output_type": "display_data"
    }
   ],
   "source": [
    "session_labels = ['']\n",
    "session_labels.extend([session.label for session in project.experiments.values()])\n",
    "dd=widgets.Dropdown(\n",
    "    options=session_labels,\n",
    "    description='Session:',\n",
    "    disabled=False,\n",
    ")\n",
    "\n",
    "@interact(session=dd, rows=(2,5), cols=(2,5), invert=False)\n",
    "def plot_dicom_images(session, rows=2, cols=4, invert=False):\n",
    "    if not session or session == '':\n",
    "        print('No session selected')\n",
    "        return\n",
    "    \n",
    "    scan = project.experiments[session].scans[0]\n",
    "    \n",
    "    file_list = list(filter(lambda k: k.endswith('.dcm'), list(scan.files)))\n",
    "    file_list.sort(key=lambda k: pydicom.dcmread(scan.files[k].open()).InstanceNumber)\n",
    "    \n",
    "    num_scans = min(rows * cols, len(file_list))\n",
    "    figsize = (cols * 3, rows * 3)\n",
    "\n",
    "    fig, axs = plt.subplots(rows, cols, figsize=figsize)\n",
    "    fig.subplots_adjust(wspace=0.01, hspace=0.01)  # Adjust subplot spacing\n",
    "\n",
    "    for i, j in zip(range(num_scans), np.linspace(0, len(file_list) - 1, num=num_scans)):\n",
    "        file = file_list[int(j)]\n",
    "        ds = pydicom.dcmread(scan.files[file].open())\n",
    "\n",
    "        image = ds.pixel_array\n",
    "        if invert:\n",
    "            image = np.max(image) - image  # Invert the image\n",
    "\n",
    "        row = i // cols\n",
    "        col = i % cols\n",
    "\n",
    "        axs[row, col].imshow(image, cmap=plt.cm.gray)\n",
    "        axs[row, col].axis('off')  # Hide axis labels and ticks\n",
    "\n",
    "    plt.show()"
   ]
  },
  {
   "cell_type": "code",
   "execution_count": null,
   "id": "f60c8f99-cfa9-4dab-a1e6-bb328b819e98",
   "metadata": {},
   "outputs": [],
   "source": []
  }
 ],
 "metadata": {
  "kernelspec": {
   "display_name": "Python 3 (ipykernel)",
   "language": "python",
   "name": "python3"
  },
  "language_info": {
   "codemirror_mode": {
    "name": "ipython",
    "version": 3
   },
   "file_extension": ".py",
   "mimetype": "text/x-python",
   "name": "python",
   "nbconvert_exporter": "python",
   "pygments_lexer": "ipython3",
   "version": "3.10.8"
  }
 },
 "nbformat": 4,
 "nbformat_minor": 5
}
