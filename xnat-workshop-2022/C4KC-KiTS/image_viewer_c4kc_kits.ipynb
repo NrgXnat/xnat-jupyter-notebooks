{
 "cells": [
  {
   "cell_type": "markdown",
   "metadata": {
    "tags": []
   },
   "source": [
    "## Load image slices and plot axial, sagittal and coronal images\n",
    "\n",
    "Based on pydicom example: [Load CT slices and plot axial, sagittal and coronal images](https://pydicom.github.io/pydicom/stable/auto_examples/image_processing/reslice.html#sphx-glr-auto-examples-image-processing-reslice-py)\n",
    "\n",
    "This example illustrates loading a scan with XNATpy and pydicom, building a 3D image, and reslicing it in different planes."
   ]
  },
  {
   "cell_type": "code",
   "execution_count": 1,
   "metadata": {
    "tags": []
   },
   "outputs": [],
   "source": [
    "!pip install -q ../xnatpy.zip\n",
    "%matplotlib inline"
   ]
  },
  {
   "cell_type": "code",
   "execution_count": 2,
   "metadata": {},
   "outputs": [],
   "source": [
    "import pydicom\n",
    "import numpy as np\n",
    "import matplotlib.pyplot as plt\n",
    "import sys\n",
    "import glob\n",
    "import xnat\n",
    "import time\n",
    "import os\n",
    "\n",
    "from ipywidgets import interact\n",
    "from scipy import ndimage"
   ]
  },
  {
   "cell_type": "code",
   "execution_count": 3,
   "metadata": {},
   "outputs": [],
   "source": [
    "session = xnat.connect(loglevel='ERROR')\n",
    "project = session.projects['C4KC-KiTS']\n",
    "subject = project.subjects['KiTS-00004']\n",
    "experiment = subject.experiments['KiTS-00004_CT_1']\n",
    "scan = experiment.scans['7']"
   ]
  },
  {
   "cell_type": "code",
   "execution_count": 4,
   "metadata": {},
   "outputs": [
    {
     "name": "stdout",
     "output_type": "stream",
     "text": [
      "file count: 64\n",
      "skipped, no SliceLocation: 0\n"
     ]
    }
   ],
   "source": [
    "# load the DICOM files\n",
    "files = []\n",
    "for file in scan.files.values():\n",
    "    if file.uri.endswith(\"dcm\"):\n",
    "        files.append(pydicom.dcmread(file.open()))\n",
    "        \n",
    "print(\"file count: {}\".format(len(files)))\n",
    "\n",
    "# skip files with no SliceLocation (eg scout views)\n",
    "slices = []\n",
    "skipcount = 0\n",
    "for f in files:\n",
    "    if hasattr(f, 'SliceLocation'):\n",
    "        slices.append(f)\n",
    "    else:\n",
    "        skipcount = skipcount + 1\n",
    "\n",
    "print(\"skipped, no SliceLocation: {}\".format(skipcount))\n",
    "\n",
    "# ensure they are in the correct order\n",
    "slices = sorted(slices, key=lambda s: s.SliceLocation)\n",
    "\n",
    "# pixel aspects, assuming all slices are the same\n",
    "ps = slices[0].PixelSpacing\n",
    "ss = slices[0].SliceThickness\n",
    "ax_aspect = ps[1]/ps[0]\n",
    "sag_aspect = ps[1]/ss\n",
    "cor_aspect = ss/ps[0]\n",
    "\n",
    "# create 3D array\n",
    "img_shape = list(slices[0].pixel_array.shape)\n",
    "img_shape.append(len(slices))\n",
    "img3d = np.zeros(img_shape)\n",
    "\n",
    "# fill 3D array with the images from the files\n",
    "for i, s in enumerate(slices):\n",
    "    img2d = s.pixel_array\n",
    "    img3d[:, :, i] = img2d\n",
    "\n",
    "\n",
    "def browse_images_ax(img3d, img_shape, ax_aspect):\n",
    "    n = img_shape[2]\n",
    "    def view_image(i):\n",
    "        a = plt.subplot()\n",
    "        plt.imshow(img3d[:, :, i], cmap=plt.cm.bone, interpolation='nearest')\n",
    "        a.set_aspect(ax_aspect)\n",
    "        plt.title('Image: %s' % i)\n",
    "        plt.show()\n",
    "    interact(view_image, i=(0,n-1))\n",
    "    \n",
    "def browse_images_sag(img3d, img_shape, sag_aspect):\n",
    "    n = img_shape[1]\n",
    "    def view_image(i):\n",
    "        a = plt.subplot()\n",
    "        rotated_img = ndimage.rotate(img3d[:, i, :], 90)\n",
    "        plt.imshow(rotated_img, cmap=plt.cm.bone, interpolation='nearest')\n",
    "        a.set_aspect(1/sag_aspect)\n",
    "        plt.title('Image: %s' % i)\n",
    "        plt.show()\n",
    "    interact(view_image, i=(0,n-1))  \n",
    "    \n",
    "def browse_images_cor(img3d, img_shape, cor_aspect):\n",
    "    n = img_shape[0]\n",
    "    def view_image(i):\n",
    "        a = plt.subplot()\n",
    "        rotated_img = ndimage.rotate(img3d[i, :, :].T, 180)\n",
    "        plt.imshow(rotated_img, cmap=plt.cm.bone, interpolation='nearest')\n",
    "        a.set_aspect(cor_aspect)\n",
    "        plt.title('Image: %s' % i)\n",
    "        plt.show()\n",
    "    interact(view_image, i=(0,n-1))  "
   ]
  },
  {
   "cell_type": "code",
   "execution_count": 5,
   "metadata": {},
   "outputs": [
    {
     "data": {
      "application/vnd.jupyter.widget-view+json": {
       "model_id": "63f391a8ecee4c828c1a8db50e397ebb",
       "version_major": 2,
       "version_minor": 0
      },
      "text/plain": [
       "interactive(children=(IntSlider(value=31, description='i', max=63), Output()), _dom_classes=('widget-interact'…"
      ]
     },
     "metadata": {},
     "output_type": "display_data"
    },
    {
     "data": {
      "application/vnd.jupyter.widget-view+json": {
       "model_id": "bb6457da712848e583f735982aa078cc",
       "version_major": 2,
       "version_minor": 0
      },
      "text/plain": [
       "interactive(children=(IntSlider(value=255, description='i', max=511), Output()), _dom_classes=('widget-interac…"
      ]
     },
     "metadata": {},
     "output_type": "display_data"
    },
    {
     "data": {
      "application/vnd.jupyter.widget-view+json": {
       "model_id": "a7f0eab504754a728eb30cd996451276",
       "version_major": 2,
       "version_minor": 0
      },
      "text/plain": [
       "interactive(children=(IntSlider(value=255, description='i', max=511), Output()), _dom_classes=('widget-interac…"
      ]
     },
     "metadata": {},
     "output_type": "display_data"
    }
   ],
   "source": [
    "browse_images_ax(img3d, img_shape, ax_aspect)\n",
    "browse_images_sag(img3d, img_shape, sag_aspect)\n",
    "browse_images_cor(img3d, img_shape, cor_aspect)"
   ]
  },
  {
   "cell_type": "code",
   "execution_count": null,
   "metadata": {},
   "outputs": [],
   "source": []
  }
 ],
 "metadata": {
  "kernelspec": {
   "display_name": "Python 3 (ipykernel)",
   "language": "python",
   "name": "python3"
  },
  "language_info": {
   "codemirror_mode": {
    "name": "ipython",
    "version": 3
   },
   "file_extension": ".py",
   "mimetype": "text/x-python",
   "name": "python",
   "nbconvert_exporter": "python",
   "pygments_lexer": "ipython3",
   "version": "3.10.6"
  }
 },
 "nbformat": 4,
 "nbformat_minor": 4
}
