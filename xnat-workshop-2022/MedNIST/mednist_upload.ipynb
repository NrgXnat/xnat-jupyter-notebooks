{
 "cells": [
  {
   "cell_type": "markdown",
   "id": "e4d5ca00-ce2f-43d4-be65-984d371024bb",
   "metadata": {},
   "source": [
    "# MedNIST Dataset Upload\n",
    "\n",
    "This notebook will upload the MedNIST dataset into an XNAT.\n",
    "\n",
    "Before running this notebook, create a new project in your XNAT named MedNIST, then Start Jupyter from the MedNIST project. "
   ]
  },
  {
   "cell_type": "code",
   "execution_count": 1,
   "id": "291436eb-8258-411e-8080-b73076770b8b",
   "metadata": {},
   "outputs": [],
   "source": [
    "import requests\n",
    "import xnat"
   ]
  },
  {
   "cell_type": "code",
   "execution_count": 2,
   "id": "ebfb20d1-7acb-401b-8704-a1db33d1c595",
   "metadata": {},
   "outputs": [],
   "source": [
    "projectId = 'None'"
   ]
  },
  {
   "cell_type": "markdown",
   "id": "5a21fb08-ef0a-4516-9669-2b4aed991442",
   "metadata": {},
   "source": [
    "### Download the MedNIST dataset\n",
    "\n",
    "Source: https://github.com/Project-MONAI/tutorials/blob/main/2d_classification/mednist_tutorial.ipynb\n",
    "\n",
    "The MedNIST dataset was gathered from several sets from TCIA, the RSNA Bone Age Challenge, and the NIH Chest X-ray dataset.\n",
    "\n",
    "The dataset is kindly made available by Dr. Bradley J. Erickson M.D., Ph.D. (Department of Radiology, Mayo Clinic) under the Creative Commons CC BY-SA 4.0 license."
   ]
  },
  {
   "cell_type": "code",
   "execution_count": 3,
   "id": "bae9ef70-dbbf-499d-9cea-4e12cb59f4a2",
   "metadata": {},
   "outputs": [],
   "source": [
    "import requests, tarfile, io\n",
    "\n",
    "resource = \"https://github.com/Project-MONAI/MONAI-extra-test-data/releases/download/0.8.1/MedNIST.tar.gz\"\n",
    "\n",
    "data_directory = \"./MedNIST\"\n",
    "\n",
    "r = requests.get(resource)\n",
    "file = tarfile.open(name=None, fileobj=io.BytesIO(r.content))\n",
    "file.extractall(data_directory)\n",
    "file.close()"
   ]
  },
  {
   "cell_type": "markdown",
   "id": "6a03bf00-a9f7-4787-896f-dc3fbaaa8e92",
   "metadata": {},
   "source": [
    "### Connect to XNAT\n",
    "\n",
    "If you are running this upload notebook outside of XNAT/Jupyter you'll need to add a host, username, and password to XNATpy."
   ]
  },
  {
   "cell_type": "code",
   "execution_count": 4,
   "id": "e55a8bf8-110d-4501-a04d-9ceafa195635",
   "metadata": {},
   "outputs": [],
   "source": [
    "connection = xnat.connect()\n",
    "connection.caching = False"
   ]
  },
  {
   "cell_type": "code",
   "execution_count": 5,
   "id": "3bb53659-14a3-4ed3-b84f-0fa6dbafa60d",
   "metadata": {},
   "outputs": [],
   "source": [
    "project = connection.projects[projectId]"
   ]
  },
  {
   "cell_type": "markdown",
   "id": "d1ab994d-8af3-484f-ab34-223f69665295",
   "metadata": {},
   "source": [
    "### Upload Data\n",
    "Each image is imported to a new subject and new image session. This might take a while to upload. Each image category has ~10000 images, except for Breast MRI with ~8900. We'll upload the first 1000."
   ]
  },
  {
   "cell_type": "code",
   "execution_count": 6,
   "id": "90ee89ce-ff65-426f-a44e-4c7d45f0d2f7",
   "metadata": {},
   "outputs": [],
   "source": [
    "subj_start = 0\n",
    "subj_stop  = 1000"
   ]
  },
  {
   "cell_type": "markdown",
   "id": "8f20a81e-0ec4-4115-add0-0efc7e29edbd",
   "metadata": {},
   "source": [
    "#### Upload AbdomenCT"
   ]
  },
  {
   "cell_type": "code",
   "execution_count": 7,
   "id": "7129a23f-d4da-4bc1-88bf-cbe1510b35c5",
   "metadata": {},
   "outputs": [],
   "source": [
    "for i in range(subj_start, subj_stop):\n",
    "    \n",
    "    num = f\"{i}\".zfill(6)\n",
    "    subjectLabel = f\"MedNIST_AbdomenCT_S{num}\"\n",
    "    experimentLabel = f\"MedNIST_AbdomenCT_E{num}\"\n",
    "    \n",
    "    subject = connection.classes.SubjectData(parent=project, label=subjectLabel)\n",
    "    experiment = connection.classes.CtSessionData(parent=subject, label=experimentLabel)\n",
    "    scan = connection.classes.CtScanData(parent=experiment, id='AbdomenCT')\n",
    "    resource = connection.classes.ResourceCatalog(parent=scan, label='JPEG')\n",
    "    resource.upload(f'{data_directory}/MedNIST/AbdomenCT/{num}.jpeg', f'{num}.jpeg')"
   ]
  },
  {
   "cell_type": "markdown",
   "id": "a1c7c419-2f8f-43af-9e59-806754c1fb3c",
   "metadata": {},
   "source": [
    "#### Upload BreastMRI"
   ]
  },
  {
   "cell_type": "code",
   "execution_count": 8,
   "id": "47ff4264-facd-4170-862c-845e839b7764",
   "metadata": {},
   "outputs": [],
   "source": [
    "for i in range(subj_start, subj_stop):\n",
    "    \n",
    "    num = f\"{i}\".zfill(6)\n",
    "    subjectLabel = f\"MedNIST_BreastMRI_S{num}\"\n",
    "    experimentLabel = f\"MedNIST_BreastMRI_E{num}\"\n",
    "    \n",
    "    subject = connection.classes.SubjectData(parent=project, label=subjectLabel)\n",
    "    experiment = connection.classes.MrSessionData(parent=subject, label=experimentLabel)\n",
    "    scan = connection.classes.MrScanData(parent=experiment, id='BreastMRI')\n",
    "    resource = connection.classes.ResourceCatalog(parent=scan, label='JPEG')\n",
    "    resource.upload(f'{data_directory}/MedNIST/BreastMRI/{num}.jpeg', f'{num}.jpeg')"
   ]
  },
  {
   "cell_type": "markdown",
   "id": "98528e16-7a3a-4fed-b527-4a85d6edf69e",
   "metadata": {},
   "source": [
    "#### Upload ChestCT"
   ]
  },
  {
   "cell_type": "code",
   "execution_count": 9,
   "id": "62c3c255-0d68-4107-9850-eea69aa018dc",
   "metadata": {},
   "outputs": [],
   "source": [
    "for i in range(subj_start, subj_stop):\n",
    "    \n",
    "    num = f\"{i}\".zfill(6)\n",
    "    subjectLabel = f\"MedNIST_ChestCT_S{num}\"\n",
    "    experimentLabel = f\"MedNIST_ChestCT_E{num}\"\n",
    "    \n",
    "    subject = connection.classes.SubjectData(parent=project, label=subjectLabel)\n",
    "    experiment = connection.classes.CtSessionData(parent=subject, label=experimentLabel)\n",
    "    scan = connection.classes.CtScanData(parent=experiment, id='ChestCT')\n",
    "    resource = connection.classes.ResourceCatalog(parent=scan, label='JPEG')\n",
    "    resource.upload(f'{data_directory}/MedNIST/ChestCT/{num}.jpeg', f'{num}.jpeg')"
   ]
  },
  {
   "cell_type": "markdown",
   "id": "4f589ff8-74fc-4fde-aed7-5a9d92d62918",
   "metadata": {},
   "source": [
    "#### Upload CXR"
   ]
  },
  {
   "cell_type": "code",
   "execution_count": 13,
   "id": "3e728f62-241e-4f23-9227-9630defd4dfc",
   "metadata": {},
   "outputs": [],
   "source": [
    "for i in range(subj_start, subj_stop):\n",
    "    \n",
    "    num = f\"{i}\".zfill(6)\n",
    "    subjectLabel = f\"MedNIST_Hand_S{num}\"\n",
    "    experimentLabel = f\"MedNIST_Hand_E{num}\"\n",
    "    \n",
    "    subject = connection.classes.SubjectData(parent=project, label=subjectLabel)\n",
    "    experiment = connection.classes.CrSessionData(parent=subject, label=experimentLabel)\n",
    "    scan = connection.classes.CrScanData(parent=experiment, id='Hand')\n",
    "    resource = connection.classes.ResourceCatalog(parent=scan, label='JPEG')\n",
    "    resource.upload(f'{data_directory}/MedNIST/Hand/{num}.jpeg', f'{num}.jpeg')"
   ]
  },
  {
   "cell_type": "markdown",
   "id": "a9b0158f-af6a-49d7-93fc-a51e64e0481d",
   "metadata": {},
   "source": [
    "#### Upload Hand"
   ]
  },
  {
   "cell_type": "code",
   "execution_count": 13,
   "id": "8d57e308",
   "metadata": {},
   "outputs": [],
   "source": [
    "for i in range(subj_start, subj_stop):\n",
    "    \n",
    "    num = f\"{i}\".zfill(6)\n",
    "    subjectLabel = f\"MedNIST_Hand_S{num}\"\n",
    "    experimentLabel = f\"MedNIST_Hand_E{num}\"\n",
    "    \n",
    "    subject = connection.classes.SubjectData(parent=project, label=subjectLabel)\n",
    "    experiment = connection.classes.CrSessionData(parent=subject, label=experimentLabel)\n",
    "    scan = connection.classes.CrScanData(parent=experiment, id='Hand')\n",
    "    resource = connection.classes.ResourceCatalog(parent=scan, label='JPEG')\n",
    "    resource.upload(f'{data_directory}/MedNIST/Hand/{num}.jpeg', f'{num}.jpeg')"
   ]
  },
  {
   "cell_type": "markdown",
   "id": "4404a8f9-fcc0-4672-a930-93162d4a4554",
   "metadata": {},
   "source": [
    "#### Upload HeadCT"
   ]
  },
  {
   "cell_type": "code",
   "execution_count": 14,
   "id": "2f0a1cae-a6a6-4a36-993e-3013c3fce884",
   "metadata": {},
   "outputs": [],
   "source": [
    "for i in range(subj_start, subj_stop):\n",
    "    \n",
    "    num = f\"{i}\".zfill(6)\n",
    "    subjectLabel = f\"MedNIST_HeadCT_S{num}\"\n",
    "    experimentLabel = f\"MedNIST_HeadCT_E{num}\"\n",
    "    \n",
    "    subject = connection.classes.SubjectData(parent=project, label=subjectLabel)\n",
    "    experiment = connection.classes.CtSessionData(parent=subject, label=experimentLabel)\n",
    "    scan = connection.classes.CtScanData(parent=experiment, id='HeadCT')\n",
    "    resource = connection.classes.ResourceCatalog(parent=scan, label='JPEG')\n",
    "    resource.upload(f'{data_directory}/MedNIST/HeadCT/{num}.jpeg', f'{num}.jpeg')"
   ]
  },
  {
   "cell_type": "markdown",
   "id": "4253a9da-7fc4-4396-b5bb-c57c7ccd427f",
   "metadata": {},
   "source": [
    "### Restart\n",
    "If your running this in XNAT/Jupyter, you may need to Stop Jupyter then Start Jupyter again from XNAT for the data to appear in /data."
   ]
  }
 ],
 "metadata": {
  "kernelspec": {
   "display_name": "Python 3 (ipykernel)",
   "language": "python",
   "name": "python3"
  },
  "language_info": {
   "codemirror_mode": {
    "name": "ipython",
    "version": 3
   },
   "file_extension": ".py",
   "mimetype": "text/x-python",
   "name": "python",
   "nbconvert_exporter": "python",
   "pygments_lexer": "ipython3",
   "version": "3.10.6"
  }
 },
 "nbformat": 4,
 "nbformat_minor": 5
}
