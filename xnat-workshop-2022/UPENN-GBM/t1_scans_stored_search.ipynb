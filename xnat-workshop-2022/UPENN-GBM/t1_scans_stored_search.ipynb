{
 "cells": [
  {
   "cell_type": "markdown",
   "id": "200d5c06-8cde-4718-bb2d-34012df16387",
   "metadata": {
    "tags": []
   },
   "source": [
    "# Read an XNAT Stored Seach as a pandas DataFrame"
   ]
  },
  {
   "cell_type": "code",
   "execution_count": 1,
   "id": "80f3fbff-c4f1-41ed-aa68-6d2a5316ed5f",
   "metadata": {},
   "outputs": [],
   "source": [
    "import pandas as pd\n",
    "import xnat\n",
    "import os\n",
    "\n",
    "from io import StringIO"
   ]
  },
  {
   "cell_type": "markdown",
   "id": "be97788f-b73a-41a6-a274-6a1a17ee70ea",
   "metadata": {},
   "source": [
    "### Start a connection with XNAT"
   ]
  },
  {
   "cell_type": "code",
   "execution_count": 2,
   "id": "4f73ea2b-5b0a-45ef-8edc-57db42a21dd1",
   "metadata": {},
   "outputs": [],
   "source": [
    "connection = xnat.connect()"
   ]
  },
  {
   "cell_type": "markdown",
   "id": "0e1ff845-d47d-4760-9ed1-af8b877233ac",
   "metadata": {},
   "source": [
    "### Get a List of Stored Searches "
   ]
  },
  {
   "cell_type": "code",
   "execution_count": 3,
   "id": "748175f3-fac5-4fb7-9e7c-111e0e6212ab",
   "metadata": {},
   "outputs": [
    {
     "data": {
      "text/plain": [
       "[{'allow_diff_columns': '1',\n",
       "  'stored_search_info': '3',\n",
       "  'extension': '13',\n",
       "  'sort_by_field_id': '',\n",
       "  'brief_description': 'T1 Scans',\n",
       "  'description': 'Site t1 scans',\n",
       "  'layeredsequence': '',\n",
       "  'secure': '1',\n",
       "  'users': '{andrewl}',\n",
       "  'root_element_name': 'xnat:mrSessionData',\n",
       "  'id': 'xs1666967384053',\n",
       "  'tag': '',\n",
       "  'sort_by_element_name': ''}]"
      ]
     },
     "execution_count": 3,
     "metadata": {},
     "output_type": "execute_result"
    }
   ],
   "source": [
    "r = connection.get('/data/search/saved')\n",
    "searches = r.json()['ResultSet']['Result']\n",
    "searches"
   ]
  },
  {
   "cell_type": "markdown",
   "id": "b453a8d7-0b1e-4fc8-9bf7-8563d2a362fe",
   "metadata": {},
   "source": [
    "### Get Results From a Stored Search as a DataFrame"
   ]
  },
  {
   "cell_type": "code",
   "execution_count": 4,
   "id": "a29bba81-b7c3-4f9e-8c64-a8f6f1b4db9a",
   "metadata": {},
   "outputs": [
    {
     "data": {
      "text/html": [
       "<div>\n",
       "<style scoped>\n",
       "    .dataframe tbody tr th:only-of-type {\n",
       "        vertical-align: middle;\n",
       "    }\n",
       "\n",
       "    .dataframe tbody tr th {\n",
       "        vertical-align: top;\n",
       "    }\n",
       "\n",
       "    .dataframe thead th {\n",
       "        text-align: right;\n",
       "    }\n",
       "</style>\n",
       "<table border=\"1\" class=\"dataframe\">\n",
       "  <thead>\n",
       "    <tr style=\"text-align: right;\">\n",
       "      <th></th>\n",
       "      <th>Label</th>\n",
       "      <th>Project</th>\n",
       "      <th>Date</th>\n",
       "      <th>Subject</th>\n",
       "      <th>Scans</th>\n",
       "    </tr>\n",
       "  </thead>\n",
       "  <tbody>\n",
       "    <tr>\n",
       "      <th>0</th>\n",
       "      <td>UPENN-GBM-00001_MR_4</td>\n",
       "      <td>UPENN-GBM</td>\n",
       "      <td>2002-02-06</td>\n",
       "      <td>UPENN-GBM-00001</td>\n",
       "      <td>t1 axial stealth-post : Processed_CaPTk(1)</td>\n",
       "    </tr>\n",
       "    <tr>\n",
       "      <th>1</th>\n",
       "      <td>UPENN-GBM-00001_MR_6</td>\n",
       "      <td>UPENN-GBM</td>\n",
       "      <td>2002-02-06</td>\n",
       "      <td>UPENN-GBM-00001</td>\n",
       "      <td>t1 axial: Processed_CaPTk(1)</td>\n",
       "    </tr>\n",
       "    <tr>\n",
       "      <th>2</th>\n",
       "      <td>UPENN-GBM-00002_MR_2</td>\n",
       "      <td>UPENN-GBM</td>\n",
       "      <td>2001-11-13</td>\n",
       "      <td>UPENN-GBM-00002</td>\n",
       "      <td>t1 axial stealth-post : Processed_CaPTk(1)</td>\n",
       "    </tr>\n",
       "    <tr>\n",
       "      <th>3</th>\n",
       "      <td>UPENN-GBM-00002_MR_4</td>\n",
       "      <td>UPENN-GBM</td>\n",
       "      <td>2001-11-13</td>\n",
       "      <td>UPENN-GBM-00002</td>\n",
       "      <td>t1 axial: Processed_CaPTk(1)</td>\n",
       "    </tr>\n",
       "    <tr>\n",
       "      <th>4</th>\n",
       "      <td>UPENN-GBM-00003_MR_1</td>\n",
       "      <td>UPENN-GBM</td>\n",
       "      <td>2003-04-16</td>\n",
       "      <td>UPENN-GBM-00003</td>\n",
       "      <td>t1 axial stealth-post : Processed_CaPTk(1)</td>\n",
       "    </tr>\n",
       "    <tr>\n",
       "      <th>...</th>\n",
       "      <td>...</td>\n",
       "      <td>...</td>\n",
       "      <td>...</td>\n",
       "      <td>...</td>\n",
       "      <td>...</td>\n",
       "    </tr>\n",
       "    <tr>\n",
       "      <th>101</th>\n",
       "      <td>UPENN-GBM-00048_MR_6</td>\n",
       "      <td>UPENN-GBM</td>\n",
       "      <td>2005-12-04</td>\n",
       "      <td>UPENN-GBM-00048</td>\n",
       "      <td>t1 axial stealth-post : Processed_CaPTk(1)</td>\n",
       "    </tr>\n",
       "    <tr>\n",
       "      <th>102</th>\n",
       "      <td>UPENN-GBM-00049_MR_2</td>\n",
       "      <td>UPENN-GBM</td>\n",
       "      <td>2006-05-03</td>\n",
       "      <td>UPENN-GBM-00049</td>\n",
       "      <td>t1 axial: Processed_CaPTk(1)</td>\n",
       "    </tr>\n",
       "    <tr>\n",
       "      <th>103</th>\n",
       "      <td>UPENN-GBM-00049_MR_4</td>\n",
       "      <td>UPENN-GBM</td>\n",
       "      <td>2006-05-03</td>\n",
       "      <td>UPENN-GBM-00049</td>\n",
       "      <td>t1 axial stealth-post : Processed_CaPTk(1)</td>\n",
       "    </tr>\n",
       "    <tr>\n",
       "      <th>104</th>\n",
       "      <td>UPENN-GBM-00050_MR_2</td>\n",
       "      <td>UPENN-GBM</td>\n",
       "      <td>2005-12-07</td>\n",
       "      <td>UPENN-GBM-00050</td>\n",
       "      <td>t1 axial: Processed_CaPTk(1)</td>\n",
       "    </tr>\n",
       "    <tr>\n",
       "      <th>105</th>\n",
       "      <td>UPENN-GBM-00050_MR_5</td>\n",
       "      <td>UPENN-GBM</td>\n",
       "      <td>2005-12-07</td>\n",
       "      <td>UPENN-GBM-00050</td>\n",
       "      <td>t1 axial stealth-post : Processed_CaPTk(1)</td>\n",
       "    </tr>\n",
       "  </tbody>\n",
       "</table>\n",
       "<p>106 rows × 5 columns</p>\n",
       "</div>"
      ],
      "text/plain": [
       "                    Label    Project        Date          Subject  \\\n",
       "0    UPENN-GBM-00001_MR_4  UPENN-GBM  2002-02-06  UPENN-GBM-00001   \n",
       "1    UPENN-GBM-00001_MR_6  UPENN-GBM  2002-02-06  UPENN-GBM-00001   \n",
       "2    UPENN-GBM-00002_MR_2  UPENN-GBM  2001-11-13  UPENN-GBM-00002   \n",
       "3    UPENN-GBM-00002_MR_4  UPENN-GBM  2001-11-13  UPENN-GBM-00002   \n",
       "4    UPENN-GBM-00003_MR_1  UPENN-GBM  2003-04-16  UPENN-GBM-00003   \n",
       "..                    ...        ...         ...              ...   \n",
       "101  UPENN-GBM-00048_MR_6  UPENN-GBM  2005-12-04  UPENN-GBM-00048   \n",
       "102  UPENN-GBM-00049_MR_2  UPENN-GBM  2006-05-03  UPENN-GBM-00049   \n",
       "103  UPENN-GBM-00049_MR_4  UPENN-GBM  2006-05-03  UPENN-GBM-00049   \n",
       "104  UPENN-GBM-00050_MR_2  UPENN-GBM  2005-12-07  UPENN-GBM-00050   \n",
       "105  UPENN-GBM-00050_MR_5  UPENN-GBM  2005-12-07  UPENN-GBM-00050   \n",
       "\n",
       "                                          Scans  \n",
       "0    t1 axial stealth-post : Processed_CaPTk(1)  \n",
       "1                  t1 axial: Processed_CaPTk(1)  \n",
       "2    t1 axial stealth-post : Processed_CaPTk(1)  \n",
       "3                  t1 axial: Processed_CaPTk(1)  \n",
       "4    t1 axial stealth-post : Processed_CaPTk(1)  \n",
       "..                                          ...  \n",
       "101  t1 axial stealth-post : Processed_CaPTk(1)  \n",
       "102                t1 axial: Processed_CaPTk(1)  \n",
       "103  t1 axial stealth-post : Processed_CaPTk(1)  \n",
       "104                t1 axial: Processed_CaPTk(1)  \n",
       "105  t1 axial stealth-post : Processed_CaPTk(1)  \n",
       "\n",
       "[106 rows x 5 columns]"
      ]
     },
     "execution_count": 4,
     "metadata": {},
     "output_type": "execute_result"
    }
   ],
   "source": [
    "t1_search_id = 'xs1666967384053'\n",
    "r = connection.get(f'/data/search/saved/{t1_search_id}/results?format=csv&guiStyle=true')\n",
    "df = pd.read_csv(StringIO(r.text), sep=\",\")\n",
    "df"
   ]
  }
 ],
 "metadata": {
  "kernelspec": {
   "display_name": "Python 3 (ipykernel)",
   "language": "python",
   "name": "python3"
  },
  "language_info": {
   "codemirror_mode": {
    "name": "ipython",
    "version": 3
   },
   "file_extension": ".py",
   "mimetype": "text/x-python",
   "name": "python",
   "nbconvert_exporter": "python",
   "pygments_lexer": "ipython3",
   "version": "3.10.6"
  }
 },
 "nbformat": 4,
 "nbformat_minor": 5
}
