{
 "cells": [
  {
   "cell_type": "markdown",
   "id": "ea98eb4a-2f05-4d20-a091-4fabe09e7f38",
   "metadata": {},
   "source": [
    "# XNATpy\n",
    "\n",
    "As of version 0.4.3, XNATpy supports the XNAT/Jupyter envrionment variables. Let's see how."
   ]
  },
  {
   "cell_type": "code",
   "execution_count": 2,
   "id": "3d16e360-f936-47aa-bcf0-57fbb3b76e2e",
   "metadata": {},
   "outputs": [],
   "source": [
    "import xnat"
   ]
  },
  {
   "cell_type": "markdown",
   "id": "0d2418ff-bbfd-4a71-b243-00a8050eb8d0",
   "metadata": {},
   "source": [
    "Normally we would need to specify the host, username and password when connecting to an XNAT with XNATpy. But XNATpy sees the XNAT_HOST, XNAT_USER, and XNAT_PASS environmental variables and uses them for us."
   ]
  },
  {
   "cell_type": "code",
   "execution_count": 3,
   "id": "98bf6124-eb29-4326-ace9-84c37f93e55c",
   "metadata": {},
   "outputs": [],
   "source": [
    "connection = xnat.connect()"
   ]
  },
  {
   "cell_type": "code",
   "execution_count": 6,
   "id": "030746a2-2295-448d-87a4-1c880bed6c45",
   "metadata": {},
   "outputs": [],
   "source": [
    "project = connection.projects['C4KC-KiTS']"
   ]
  },
  {
   "cell_type": "code",
   "execution_count": 7,
   "id": "f73e780a-87e0-4178-a7d3-db10b9b3e458",
   "metadata": {},
   "outputs": [
    {
     "data": {
      "text/plain": [
       "<XNATListing {(XNAT_E02828, KiTS-00050_CT_1): <CtSessionData KiTS-00050_CT_1 (XNAT_E02828)>, (XNAT_E02860, KiTS-00023_CT_1): <CtSessionData KiTS-00023_CT_1 (XNAT_E02860)>, (XNAT_E02880, KiTS-00030_CT_1): <CtSessionData KiTS-00030_CT_1 (XNAT_E02880)>, (XNAT_E02896, KiTS-00014_CT_1): <CtSessionData KiTS-00014_CT_1 (XNAT_E02896)>, (XNAT_E02897, KiTS-00046_CT_1): <CtSessionData KiTS-00046_CT_1 (XNAT_E02897)>, (XNAT_E02898, KiTS-00021_CT_1): <CtSessionData KiTS-00021_CT_1 (XNAT_E02898)>, (XNAT_E02905, KiTS-00010_CT_1): <CtSessionData KiTS-00010_CT_1 (XNAT_E02905)>, (XNAT_E02960, KiTS-00033_CT_1): <CtSessionData KiTS-00033_CT_1 (XNAT_E02960)>, (XNAT_E02977, KiTS-00000_CT_1): <CtSessionData KiTS-00000_CT_1 (XNAT_E02977)>, (XNAT_E02996, KiTS-00025_CT_1): <CtSessionData KiTS-00025_CT_1 (XNAT_E02996)>, (XNAT_E03012, KiTS-00017_CT_1): <CtSessionData KiTS-00017_CT_1 (XNAT_E03012)>, (XNAT_E03027, KiTS-00043_CT_1): <CtSessionData KiTS-00043_CT_1 (XNAT_E03027)>, (XNAT_E03030, KiTS-00020_CT_1): <CtSessionData KiTS-00020_CT_1 (XNAT_E03030)>, (XNAT_E03122, KiTS-00019_CT_1): <CtSessionData KiTS-00019_CT_1 (XNAT_E03122)>, (XNAT_E03170, KiTS-00047_CT_1): <CtSessionData KiTS-00047_CT_1 (XNAT_E03170)>, (XNAT_E03182, KiTS-00022_CT_1): <CtSessionData KiTS-00022_CT_1 (XNAT_E03182)>, (XNAT_E03233, KiTS-00026_CT_1): <CtSessionData KiTS-00026_CT_1 (XNAT_E03233)>, (XNAT_E03253, KiTS-00037_CT_1): <CtSessionData KiTS-00037_CT_1 (XNAT_E03253)>, (XNAT_E03264, KiTS-00035_CT_1): <CtSessionData KiTS-00035_CT_1 (XNAT_E03264)>, (XNAT_E03310, KiTS-00040_CT_1): <CtSessionData KiTS-00040_CT_1 (XNAT_E03310)>, (XNAT_E03311, KiTS-00044_CT_1): <CtSessionData KiTS-00044_CT_1 (XNAT_E03311)>, (XNAT_E03320, KiTS-00048_CT_1): <CtSessionData KiTS-00048_CT_1 (XNAT_E03320)>, (XNAT_E03328, KiTS-00031_CT_1): <CtSessionData KiTS-00031_CT_1 (XNAT_E03328)>, (XNAT_E03329, KiTS-00028_CT_1): <CtSessionData KiTS-00028_CT_1 (XNAT_E03329)>, (XNAT_E03330, KiTS-00004_CT_1): <CtSessionData KiTS-00004_CT_1 (XNAT_E03330)>, (XNAT_E03331, KiTS-00039_CT_1): <CtSessionData KiTS-00039_CT_1 (XNAT_E03331)>, (XNAT_E03332, KiTS-00034_CT_1): <CtSessionData KiTS-00034_CT_1 (XNAT_E03332)>, (XNAT_E03333, KiTS-00036_CT_1): <CtSessionData KiTS-00036_CT_1 (XNAT_E03333)>, (XNAT_E03334, KiTS-00041_CT_1): <CtSessionData KiTS-00041_CT_1 (XNAT_E03334)>, (XNAT_E03335, KiTS-00024_CT_1): <CtSessionData KiTS-00024_CT_1 (XNAT_E03335)>, (XNAT_E03336, KiTS-00049_CT_1): <CtSessionData KiTS-00049_CT_1 (XNAT_E03336)>, (XNAT_E03345, KiTS-00009_CT_1): <CtSessionData KiTS-00009_CT_1 (XNAT_E03345)>, (XNAT_E03372, KiTS-00006_CT_1): <CtSessionData KiTS-00006_CT_1 (XNAT_E03372)>, (XNAT_E03375, KiTS-00003_CT_1): <CtSessionData KiTS-00003_CT_1 (XNAT_E03375)>, (XNAT_E03420, KiTS-00038_CT_1): <CtSessionData KiTS-00038_CT_1 (XNAT_E03420)>, (XNAT_E03424, KiTS-00005_CT_1): <CtSessionData KiTS-00005_CT_1 (XNAT_E03424)>, (XNAT_E03447, KiTS-00029_CT_1): <CtSessionData KiTS-00029_CT_1 (XNAT_E03447)>, (XNAT_E03450, KiTS-00016_CT_1): <CtSessionData KiTS-00016_CT_1 (XNAT_E03450)>, (XNAT_E03595, KiTS-00007_CT_1): <CtSessionData KiTS-00007_CT_1 (XNAT_E03595)>, (XNAT_E03605, KiTS-00045_CT_1): <CtSessionData KiTS-00045_CT_1 (XNAT_E03605)>, (XNAT_E03639, KiTS-00002_CT_1): <CtSessionData KiTS-00002_CT_1 (XNAT_E03639)>, (XNAT_E03849, KiTS-00008_CT_1): <CtSessionData KiTS-00008_CT_1 (XNAT_E03849)>, (XNAT_E03906, KiTS-00001_CT_1): <CtSessionData KiTS-00001_CT_1 (XNAT_E03906)>, (XNAT_E03910, KiTS-00032_CT_1): <CtSessionData KiTS-00032_CT_1 (XNAT_E03910)>, (XNAT_E04167, KiTS-00042_CT_1): <CtSessionData KiTS-00042_CT_1 (XNAT_E04167)>, (XNAT_E04202, KiTS-00015_CT_1): <CtSessionData KiTS-00015_CT_1 (XNAT_E04202)>, (XNAT_E04224, KiTS-00027_CT_1): <CtSessionData KiTS-00027_CT_1 (XNAT_E04224)>, (XNAT_E04235, KiTS-00011_CT_1): <CtSessionData KiTS-00011_CT_1 (XNAT_E04235)>, (XNAT_E04249, KiTS-00013_CT_1): <CtSessionData KiTS-00013_CT_1 (XNAT_E04249)>, (XNAT_E04252, KiTS-00012_CT_1): <CtSessionData KiTS-00012_CT_1 (XNAT_E04252)>, (XNAT_E04277, KiTS-00018_CT_1): <CtSessionData KiTS-00018_CT_1 (XNAT_E04277)>}>"
      ]
     },
     "execution_count": 7,
     "metadata": {},
     "output_type": "execute_result"
    }
   ],
   "source": [
    "project.experiments"
   ]
  }
 ],
 "metadata": {
  "kernelspec": {
   "display_name": "Python 3 (ipykernel)",
   "language": "python",
   "name": "python3"
  },
  "language_info": {
   "codemirror_mode": {
    "name": "ipython",
    "version": 3
   },
   "file_extension": ".py",
   "mimetype": "text/x-python",
   "name": "python",
   "nbconvert_exporter": "python",
   "pygments_lexer": "ipython3",
   "version": "3.10.6"
  }
 },
 "nbformat": 4,
 "nbformat_minor": 5
}
