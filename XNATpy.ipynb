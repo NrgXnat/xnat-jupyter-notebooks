{
 "cells": [
  {
   "cell_type": "markdown",
   "id": "ea98eb4a-2f05-4d20-a091-4fabe09e7f38",
   "metadata": {},
   "source": [
    "# XNATpy\n",
    "\n",
    "**XNATpy** is an XNAT client that exposes XNAT objects/functions as python objects/functions. The notebook provides a quick overview of using XNATpy. More information is availble in the [official documentation](https://xnat.readthedocs.io/en/latest/). "
   ]
  },
  {
   "cell_type": "markdown",
   "id": "50c9f19a-a17d-4097-8cdb-737d4fd23bf0",
   "metadata": {},
   "source": [
    "## Setup"
   ]
  },
  {
   "cell_type": "markdown",
   "id": "6780f16d-d5d2-47a9-8860-2d2e08d6e36f",
   "metadata": {},
   "source": [
    "If XNATpy is not already installed in your environment"
   ]
  },
  {
   "cell_type": "code",
   "execution_count": 1,
   "id": "44e2e294-d459-47c6-8e79-a00a231ebdce",
   "metadata": {
    "tags": []
   },
   "outputs": [
    {
     "name": "stdout",
     "output_type": "stream",
     "text": [
      "Requirement already satisfied: xnat in /opt/conda/lib/python3.10/site-packages (0.4.3)\n",
      "Requirement already satisfied: isodate>=0.5.4 in /opt/conda/lib/python3.10/site-packages (from xnat) (0.6.1)\n",
      "Requirement already satisfied: progressbar2>=3.11.0 in /opt/conda/lib/python3.10/site-packages (from xnat) (4.2.0)\n",
      "Requirement already satisfied: requests>=2.10.0 in /opt/conda/lib/python3.10/site-packages (from xnat) (2.28.1)\n",
      "Requirement already satisfied: six>=1.13.0 in /opt/conda/lib/python3.10/site-packages (from xnat) (1.16.0)\n",
      "Requirement already satisfied: click>=7.0.0 in /opt/conda/lib/python3.10/site-packages (from xnat) (8.1.3)\n",
      "Requirement already satisfied: sphinx-rtd-theme>=0.1.9 in /opt/conda/lib/python3.10/site-packages (from xnat) (1.0.0)\n",
      "Requirement already satisfied: pydicom>=2.3.0 in /opt/conda/lib/python3.10/site-packages (from xnat) (2.3.0)\n",
      "Requirement already satisfied: python-utils>=3.0.0 in /opt/conda/lib/python3.10/site-packages (from progressbar2>=3.11.0->xnat) (3.4.5)\n",
      "Requirement already satisfied: charset-normalizer<3,>=2 in /opt/conda/lib/python3.10/site-packages (from requests>=2.10.0->xnat) (2.1.1)\n",
      "Requirement already satisfied: urllib3<1.27,>=1.21.1 in /opt/conda/lib/python3.10/site-packages (from requests>=2.10.0->xnat) (1.26.11)\n",
      "Requirement already satisfied: idna<4,>=2.5 in /opt/conda/lib/python3.10/site-packages (from requests>=2.10.0->xnat) (3.4)\n",
      "Requirement already satisfied: certifi>=2017.4.17 in /opt/conda/lib/python3.10/site-packages (from requests>=2.10.0->xnat) (2022.9.24)\n",
      "Requirement already satisfied: sphinx>=1.6 in /opt/conda/lib/python3.10/site-packages (from sphinx-rtd-theme>=0.1.9->xnat) (5.3.0)\n",
      "Requirement already satisfied: docutils<0.18 in /opt/conda/lib/python3.10/site-packages (from sphinx-rtd-theme>=0.1.9->xnat) (0.17.1)\n",
      "Requirement already satisfied: Jinja2>=3.0 in /opt/conda/lib/python3.10/site-packages (from sphinx>=1.6->sphinx-rtd-theme>=0.1.9->xnat) (3.1.2)\n",
      "Requirement already satisfied: sphinxcontrib-htmlhelp>=2.0.0 in /opt/conda/lib/python3.10/site-packages (from sphinx>=1.6->sphinx-rtd-theme>=0.1.9->xnat) (2.0.0)\n",
      "Requirement already satisfied: sphinxcontrib-devhelp in /opt/conda/lib/python3.10/site-packages (from sphinx>=1.6->sphinx-rtd-theme>=0.1.9->xnat) (1.0.2)\n",
      "Requirement already satisfied: sphinxcontrib-applehelp in /opt/conda/lib/python3.10/site-packages (from sphinx>=1.6->sphinx-rtd-theme>=0.1.9->xnat) (1.0.2)\n",
      "Requirement already satisfied: sphinxcontrib-qthelp in /opt/conda/lib/python3.10/site-packages (from sphinx>=1.6->sphinx-rtd-theme>=0.1.9->xnat) (1.0.3)\n",
      "Requirement already satisfied: Pygments>=2.12 in /opt/conda/lib/python3.10/site-packages (from sphinx>=1.6->sphinx-rtd-theme>=0.1.9->xnat) (2.13.0)\n",
      "Requirement already satisfied: alabaster<0.8,>=0.7 in /opt/conda/lib/python3.10/site-packages (from sphinx>=1.6->sphinx-rtd-theme>=0.1.9->xnat) (0.7.12)\n",
      "Requirement already satisfied: sphinxcontrib-jsmath in /opt/conda/lib/python3.10/site-packages (from sphinx>=1.6->sphinx-rtd-theme>=0.1.9->xnat) (1.0.1)\n",
      "Requirement already satisfied: sphinxcontrib-serializinghtml>=1.1.5 in /opt/conda/lib/python3.10/site-packages (from sphinx>=1.6->sphinx-rtd-theme>=0.1.9->xnat) (1.1.5)\n",
      "Requirement already satisfied: babel>=2.9 in /opt/conda/lib/python3.10/site-packages (from sphinx>=1.6->sphinx-rtd-theme>=0.1.9->xnat) (2.10.3)\n",
      "Requirement already satisfied: packaging>=21.0 in /opt/conda/lib/python3.10/site-packages (from sphinx>=1.6->sphinx-rtd-theme>=0.1.9->xnat) (21.3)\n",
      "Requirement already satisfied: imagesize>=1.3 in /opt/conda/lib/python3.10/site-packages (from sphinx>=1.6->sphinx-rtd-theme>=0.1.9->xnat) (1.4.1)\n",
      "Requirement already satisfied: snowballstemmer>=2.0 in /opt/conda/lib/python3.10/site-packages (from sphinx>=1.6->sphinx-rtd-theme>=0.1.9->xnat) (2.2.0)\n",
      "Requirement already satisfied: pytz>=2015.7 in /opt/conda/lib/python3.10/site-packages (from babel>=2.9->sphinx>=1.6->sphinx-rtd-theme>=0.1.9->xnat) (2022.5)\n",
      "Requirement already satisfied: MarkupSafe>=2.0 in /opt/conda/lib/python3.10/site-packages (from Jinja2>=3.0->sphinx>=1.6->sphinx-rtd-theme>=0.1.9->xnat) (2.1.1)\n",
      "Requirement already satisfied: pyparsing!=3.0.5,>=2.0.2 in /opt/conda/lib/python3.10/site-packages (from packaging>=21.0->sphinx>=1.6->sphinx-rtd-theme>=0.1.9->xnat) (3.0.9)\n",
      "Note: you may need to restart the kernel to use updated packages.\n"
     ]
    }
   ],
   "source": [
    "pip install xnat"
   ]
  },
  {
   "cell_type": "code",
   "execution_count": 2,
   "id": "3d16e360-f936-47aa-bcf0-57fbb3b76e2e",
   "metadata": {},
   "outputs": [],
   "source": [
    "import os\n",
    "import xnat"
   ]
  },
  {
   "cell_type": "markdown",
   "id": "9c3530c4-6e74-468d-b033-16e8d626e884",
   "metadata": {},
   "source": [
    "## Connecting to an XNAT server"
   ]
  },
  {
   "cell_type": "markdown",
   "id": "0d2418ff-bbfd-4a71-b243-00a8050eb8d0",
   "metadata": {},
   "source": [
    "When connecting to an XNAT server you start by creating a connection. To avoid storing our credentials in our notebook we can use the XNAT environmental varibales."
   ]
  },
  {
   "cell_type": "code",
   "execution_count": 3,
   "id": "98bf6124-eb29-4326-ace9-84c37f93e55c",
   "metadata": {},
   "outputs": [],
   "source": [
    "connection = xnat.connect(os.environ['XNAT_HOST'], \n",
    "                          user=os.environ['XNAT_USER'], \n",
    "                          password=os.environ['XNAT_PASS'])"
   ]
  },
  {
   "cell_type": "markdown",
   "id": "05c12b6c-cba1-4406-b117-4c3112321df9",
   "metadata": {},
   "source": [
    "As of version 0.4.3, XNATpy supports the XNAT/Jupyter envrionment variables. So we can shorten this to"
   ]
  },
  {
   "cell_type": "code",
   "execution_count": 4,
   "id": "39c73f6e-98df-4d29-ad4c-8740f0aeeeca",
   "metadata": {},
   "outputs": [],
   "source": [
    "connection = xnat.connect()"
   ]
  },
  {
   "cell_type": "markdown",
   "id": "4c1c6b4b-c011-493b-93f3-a5c5d7ea02b2",
   "metadata": {},
   "source": [
    "## Exploring your XNAT server\n",
    "\n",
    "When a session is established, it is fairly easy to explore the data on the XNAT server. The data structure of XNAT is mimicked as Python objects. The connection gives access to a listing of all projects, subjects, and experiments on the server."
   ]
  },
  {
   "cell_type": "code",
   "execution_count": 5,
   "id": "de48efd6-48e1-421e-884e-219801bd6d2d",
   "metadata": {},
   "outputs": [
    {
     "data": {
      "text/plain": [
       "<XNATListing {(C4KC-KiTS, C4KC-KiTS): <ProjectData C4KC-KiTS (C4KC-KiTS)>, (UPENN-GBM, UPENN-GBM): <ProjectData UPENN-GBM (UPENN-GBM)>, (MedNIST, MedNIST): <ProjectData MedNIST (MedNIST)>, (LIDC-IDRI, LIDC-IDRI): <ProjectData LIDC-IDRI (LIDC-IDRI)>}>"
      ]
     },
     "execution_count": 5,
     "metadata": {},
     "output_type": "execute_result"
    }
   ],
   "source": [
    "connection.projects"
   ]
  },
  {
   "cell_type": "markdown",
   "id": "f8109483-fb70-482b-bfd4-4154ffbd9a38",
   "metadata": {},
   "source": [
    "The XNATListing is a special type of mapping in which you can access elements by a primary key (usually the ID or Accession #) and a secondary key (e.g. the label for a subject or experiment). Selection can be performed the same as a Python dict."
   ]
  },
  {
   "cell_type": "code",
   "execution_count": 6,
   "id": "030746a2-2295-448d-87a4-1c880bed6c45",
   "metadata": {},
   "outputs": [
    {
     "data": {
      "text/plain": [
       "<XNATListing {(XNAT_S02575, KiTS-00050): <SubjectData KiTS-00050 (XNAT_S02575)>, (XNAT_S02608, KiTS-00023): <SubjectData KiTS-00023 (XNAT_S02608)>, (XNAT_S02627, KiTS-00030): <SubjectData KiTS-00030 (XNAT_S02627)>, (XNAT_S02643, KiTS-00014): <SubjectData KiTS-00014 (XNAT_S02643)>, (XNAT_S02644, KiTS-00046): <SubjectData KiTS-00046 (XNAT_S02644)>, (XNAT_S02645, KiTS-00021): <SubjectData KiTS-00021 (XNAT_S02645)>, (XNAT_S02652, KiTS-00010): <SubjectData KiTS-00010 (XNAT_S02652)>, (XNAT_S02708, KiTS-00033): <SubjectData KiTS-00033 (XNAT_S02708)>, (XNAT_S02724, KiTS-00000): <SubjectData KiTS-00000 (XNAT_S02724)>, (XNAT_S02743, KiTS-00025): <SubjectData KiTS-00025 (XNAT_S02743)>, (XNAT_S02759, KiTS-00017): <SubjectData KiTS-00017 (XNAT_S02759)>, (XNAT_S02774, KiTS-00043): <SubjectData KiTS-00043 (XNAT_S02774)>, (XNAT_S02777, KiTS-00020): <SubjectData KiTS-00020 (XNAT_S02777)>, (XNAT_S02869, KiTS-00019): <SubjectData KiTS-00019 (XNAT_S02869)>, (XNAT_S02917, KiTS-00047): <SubjectData KiTS-00047 (XNAT_S02917)>, (XNAT_S02930, KiTS-00022): <SubjectData KiTS-00022 (XNAT_S02930)>, (XNAT_S02980, KiTS-00026): <SubjectData KiTS-00026 (XNAT_S02980)>, (XNAT_S03000, KiTS-00037): <SubjectData KiTS-00037 (XNAT_S03000)>, (XNAT_S03012, KiTS-00035): <SubjectData KiTS-00035 (XNAT_S03012)>, (XNAT_S03057, KiTS-00040): <SubjectData KiTS-00040 (XNAT_S03057)>, (XNAT_S03059, KiTS-00044): <SubjectData KiTS-00044 (XNAT_S03059)>, (XNAT_S03067, KiTS-00048): <SubjectData KiTS-00048 (XNAT_S03067)>, (XNAT_S03075, KiTS-00031): <SubjectData KiTS-00031 (XNAT_S03075)>, (XNAT_S03076, KiTS-00028): <SubjectData KiTS-00028 (XNAT_S03076)>, (XNAT_S03077, KiTS-00004): <SubjectData KiTS-00004 (XNAT_S03077)>, (XNAT_S03078, KiTS-00039): <SubjectData KiTS-00039 (XNAT_S03078)>, (XNAT_S03079, KiTS-00034): <SubjectData KiTS-00034 (XNAT_S03079)>, (XNAT_S03080, KiTS-00036): <SubjectData KiTS-00036 (XNAT_S03080)>, (XNAT_S03081, KiTS-00041): <SubjectData KiTS-00041 (XNAT_S03081)>, (XNAT_S03082, KiTS-00024): <SubjectData KiTS-00024 (XNAT_S03082)>, (XNAT_S03083, KiTS-00049): <SubjectData KiTS-00049 (XNAT_S03083)>, (XNAT_S03092, KiTS-00009): <SubjectData KiTS-00009 (XNAT_S03092)>, (XNAT_S03119, KiTS-00006): <SubjectData KiTS-00006 (XNAT_S03119)>, (XNAT_S03123, KiTS-00003): <SubjectData KiTS-00003 (XNAT_S03123)>, (XNAT_S03168, KiTS-00038): <SubjectData KiTS-00038 (XNAT_S03168)>, (XNAT_S03172, KiTS-00005): <SubjectData KiTS-00005 (XNAT_S03172)>, (XNAT_S03195, KiTS-00029): <SubjectData KiTS-00029 (XNAT_S03195)>, (XNAT_S03198, KiTS-00016): <SubjectData KiTS-00016 (XNAT_S03198)>, (XNAT_S03343, KiTS-00007): <SubjectData KiTS-00007 (XNAT_S03343)>, (XNAT_S03353, KiTS-00045): <SubjectData KiTS-00045 (XNAT_S03353)>, (XNAT_S03387, KiTS-00002): <SubjectData KiTS-00002 (XNAT_S03387)>, (XNAT_S03597, KiTS-00008): <SubjectData KiTS-00008 (XNAT_S03597)>, (XNAT_S03654, KiTS-00001): <SubjectData KiTS-00001 (XNAT_S03654)>, (XNAT_S03658, KiTS-00032): <SubjectData KiTS-00032 (XNAT_S03658)>, (XNAT_S03915, KiTS-00042): <SubjectData KiTS-00042 (XNAT_S03915)>, (XNAT_S03950, KiTS-00015): <SubjectData KiTS-00015 (XNAT_S03950)>, (XNAT_S03973, KiTS-00027): <SubjectData KiTS-00027 (XNAT_S03973)>, (XNAT_S03983, KiTS-00011): <SubjectData KiTS-00011 (XNAT_S03983)>, (XNAT_S03997, KiTS-00013): <SubjectData KiTS-00013 (XNAT_S03997)>, (XNAT_S04000, KiTS-00012): <SubjectData KiTS-00012 (XNAT_S04000)>, (XNAT_S04025, KiTS-00018): <SubjectData KiTS-00018 (XNAT_S04025)>}>"
      ]
     },
     "execution_count": 6,
     "metadata": {},
     "output_type": "execute_result"
    }
   ],
   "source": [
    "project = connection.projects[0] # or connection.projects[\"C4KC-KiTS\"]\n",
    "project.subjects"
   ]
  },
  {
   "cell_type": "markdown",
   "id": "e501f432-f8f9-4110-9166-1d6d3bf419cd",
   "metadata": {},
   "source": [
    "## Building an image viewer\n",
    "\n",
    "Based on pydicom example [Load CT slices and plot axial, sagittal and coronal images](https://pydicom.github.io/pydicom/stable/auto_examples/image_processing/reslice.html#sphx-glr-auto-examples-image-processing-reslice-py)\n",
    "\n",
    "This example illustrates loading a scan with XNATpy and pydicom, building a 3D image, and reslicing it in different planes. We will also demostrate the new XNATpy support for the XNAT/Jupyter file system!"
   ]
  },
  {
   "cell_type": "code",
   "execution_count": 7,
   "id": "cc59d0ff-b5aa-488d-ad26-66e489272eb2",
   "metadata": {},
   "outputs": [],
   "source": [
    "import pydicom\n",
    "import numpy as np\n",
    "import matplotlib.pyplot as plt\n",
    "import sys\n",
    "import glob\n",
    "import xnat\n",
    "import time\n",
    "import os\n",
    "\n",
    "from ipywidgets import interact\n",
    "from scipy import ndimage"
   ]
  },
  {
   "cell_type": "markdown",
   "id": "a39e94f4-d411-4446-bfd3-0cd4628b405d",
   "metadata": {},
   "source": [
    "Modify this for your project / subject / experiment / dicom scan"
   ]
  },
  {
   "cell_type": "code",
   "execution_count": 8,
   "id": "4adeaabf-2ed8-4f17-931c-be3d6d3ecf7e",
   "metadata": {},
   "outputs": [
    {
     "name": "stderr",
     "output_type": "stream",
     "text": [
      "[INFO] Token login successfully as andrewl\n",
      "[INFO] GET URI https://jupyter-demo.workshop.xnat.org/data/JSESSION\n",
      "[INFO] Determining XNAT version\n",
      "[INFO] GET URI https://jupyter-demo.workshop.xnat.org/data/version\n",
      "[INFO] GET URI https://jupyter-demo.workshop.xnat.org/xapi/siteConfig/buildInfo?format=json\n",
      "[INFO] Found an 1.8 version (1.8.6)\n",
      "[INFO] Start parsing schemas and building object model\n",
      "[INFO] GET URI https://jupyter-demo.workshop.xnat.org/xapi/schemas?format=json\n",
      "[INFO] GET URI https://jupyter-demo.workshop.xnat.org/xapi/schemas/security\n",
      "[INFO] GET URI https://jupyter-demo.workshop.xnat.org/xapi/schemas/assessments\n",
      "[INFO] GET URI https://jupyter-demo.workshop.xnat.org/xapi/schemas/birn/birnprov\n",
      "[INFO] GET URI https://jupyter-demo.workshop.xnat.org/xapi/schemas/validation/protocolValidation\n",
      "[INFO] GET URI https://jupyter-demo.workshop.xnat.org/xapi/schemas/catalog\n",
      "[INFO] GET URI https://jupyter-demo.workshop.xnat.org/xapi/schemas/xnat\n",
      "[INFO] GET URI https://jupyter-demo.workshop.xnat.org/xapi/schemas/xdat/instance\n",
      "[INFO] GET URI https://jupyter-demo.workshop.xnat.org/xapi/schemas/xdat/PlexiViewer\n",
      "[INFO] GET URI https://jupyter-demo.workshop.xnat.org/xapi/schemas/xdat\n",
      "[INFO] GET URI https://jupyter-demo.workshop.xnat.org/xapi/schemas/xdat/display\n",
      "[INFO] GET URI https://jupyter-demo.workshop.xnat.org/xapi/schemas/pipeline/workflow\n",
      "[INFO] GET URI https://jupyter-demo.workshop.xnat.org/xapi/schemas/pipeline/build\n",
      "[INFO] GET URI https://jupyter-demo.workshop.xnat.org/xapi/schemas/pipeline/repository\n",
      "[INFO] GET URI https://jupyter-demo.workshop.xnat.org/xapi/schemas/roi\n",
      "[INFO] GET URI https://jupyter-demo.workshop.xnat.org/xapi/schemas/screening/screeningAssessment\n",
      "[INFO] GET URI https://jupyter-demo.workshop.xnat.org/xapi/schemas/project\n",
      "[INFO] GET URI https://jupyter-demo.workshop.xnat.org/xapi/schemas/datasets\n",
      "[INFO] GET URI https://jupyter-demo.workshop.xnat.org/xapi/schemas/datasets\n",
      "[INFO] GET URI https://jupyter-demo.workshop.xnat.org/xapi/schemas/ml\n",
      "[INFO] GET URI https://jupyter-demo.workshop.xnat.org/xapi/schemas/ml\n",
      "[INFO] GET URI https://jupyter-demo.workshop.xnat.org/xapi/schemas/wmh\n",
      "[INFO] GET URI https://jupyter-demo.workshop.xnat.org/xapi/schemas/xsync\n",
      "[INFO] Pruning data structure\n",
      "[INFO] Writing result\n",
      "[INFO] Object model created successfully\n",
      "[INFO] GET URI https://jupyter-demo.workshop.xnat.org/data/archive/projects?columns=ID%2CURI%2Cname&format=json\n",
      "[INFO] GET URI https://jupyter-demo.workshop.xnat.org/data/archive/projects/C4KC-KiTS/subjects?columns=ID%2CURI%2Clabel&format=json\n",
      "[INFO] GET URI https://jupyter-demo.workshop.xnat.org/data/archive/projects/C4KC-KiTS/subjects/XNAT_S03077/experiments?columns=ID%2CURI%2Clabel%2CxsiType&format=json\n",
      "[INFO] GET URI https://jupyter-demo.workshop.xnat.org/data/archive/projects/C4KC-KiTS/subjects/XNAT_S03077/experiments/XNAT_E03330?format=json\n",
      "[INFO] GET URI https://jupyter-demo.workshop.xnat.org/data/archive/projects/C4KC-KiTS/subjects/XNAT_S03077/experiments/XNAT_E03330/scans?columns=ID%2CURI%2Ctype%2CxsiType&format=json\n"
     ]
    }
   ],
   "source": [
    "session = xnat.connect(loglevel='INFO')\n",
    "project = session.projects['C4KC-KiTS']\n",
    "subject = project.subjects['KiTS-00004']\n",
    "experiment = subject.experiments['KiTS-00004_CT_1']\n",
    "scan = experiment.scans['7']"
   ]
  },
  {
   "cell_type": "code",
   "execution_count": 9,
   "id": "9d878600-4228-4d79-936a-6a052bd74a07",
   "metadata": {},
   "outputs": [
    {
     "name": "stderr",
     "output_type": "stream",
     "text": [
      "[INFO] GET URI https://jupyter-demo.workshop.xnat.org/data/archive/projects/C4KC-KiTS/subjects/XNAT_S03077/experiments/XNAT_E03330/scans/7/files?columns=ID%2CURI%2Cpath&format=json\n",
      "[INFO] GET URI https://jupyter-demo.workshop.xnat.org/data/experiments/XNAT_E03330/scans/7/resources/3391?format=json\n",
      "[INFO] GET URI https://jupyter-demo.workshop.xnat.org/data/experiments/XNAT_E03330/scans/7/resources?format=json\n",
      "[INFO] GET URI https://jupyter-demo.workshop.xnat.org/data/experiments/XNAT_E03330/scans/7?format=json\n",
      "[INFO] GET URI https://jupyter-demo.workshop.xnat.org/data/experiments/XNAT_E03330?format=json\n",
      "[INFO] GET URI https://jupyter-demo.workshop.xnat.org/data/experiments/XNAT_E03330?format=json\n",
      "[INFO] GET URI https://jupyter-demo.workshop.xnat.org/data/experiments/XNAT_E03330/scans/7?format=json\n",
      "[INFO] GET URI https://jupyter-demo.workshop.xnat.org/data/experiments/XNAT_E03330/scans/7/resources/3391?format=json\n",
      "[INFO] GET URI https://jupyter-demo.workshop.xnat.org/data/experiments/XNAT_E03330/scans/7/resources?format=json\n",
      "[INFO] Opening file from filesystem!\n",
      "[INFO] Opening file from filesystem!\n",
      "[INFO] Opening file from filesystem!\n",
      "[INFO] Opening file from filesystem!\n",
      "[INFO] Opening file from filesystem!\n",
      "[INFO] Opening file from filesystem!\n",
      "[INFO] Opening file from filesystem!\n",
      "[INFO] Opening file from filesystem!\n",
      "[INFO] Opening file from filesystem!\n",
      "[INFO] Opening file from filesystem!\n",
      "[INFO] Opening file from filesystem!\n",
      "[INFO] Opening file from filesystem!\n",
      "[INFO] Opening file from filesystem!\n",
      "[INFO] Opening file from filesystem!\n",
      "[INFO] Opening file from filesystem!\n",
      "[INFO] Opening file from filesystem!\n",
      "[INFO] Opening file from filesystem!\n",
      "[INFO] Opening file from filesystem!\n",
      "[INFO] Opening file from filesystem!\n",
      "[INFO] Opening file from filesystem!\n",
      "[INFO] Opening file from filesystem!\n",
      "[INFO] Opening file from filesystem!\n",
      "[INFO] Opening file from filesystem!\n",
      "[INFO] Opening file from filesystem!\n",
      "[INFO] Opening file from filesystem!\n",
      "[INFO] Opening file from filesystem!\n",
      "[INFO] Opening file from filesystem!\n",
      "[INFO] Opening file from filesystem!\n",
      "[INFO] Opening file from filesystem!\n",
      "[INFO] Opening file from filesystem!\n",
      "[INFO] Opening file from filesystem!\n",
      "[INFO] Opening file from filesystem!\n",
      "[INFO] Opening file from filesystem!\n",
      "[INFO] Opening file from filesystem!\n",
      "[INFO] Opening file from filesystem!\n",
      "[INFO] Opening file from filesystem!\n",
      "[INFO] Opening file from filesystem!\n",
      "[INFO] Opening file from filesystem!\n",
      "[INFO] Opening file from filesystem!\n",
      "[INFO] Opening file from filesystem!\n",
      "[INFO] Opening file from filesystem!\n",
      "[INFO] Opening file from filesystem!\n",
      "[INFO] Opening file from filesystem!\n",
      "[INFO] Opening file from filesystem!\n",
      "[INFO] Opening file from filesystem!\n",
      "[INFO] Opening file from filesystem!\n",
      "[INFO] Opening file from filesystem!\n",
      "[INFO] Opening file from filesystem!\n",
      "[INFO] Opening file from filesystem!\n",
      "[INFO] Opening file from filesystem!\n",
      "[INFO] Opening file from filesystem!\n",
      "[INFO] Opening file from filesystem!\n",
      "[INFO] Opening file from filesystem!\n",
      "[INFO] Opening file from filesystem!\n",
      "[INFO] Opening file from filesystem!\n",
      "[INFO] Opening file from filesystem!\n",
      "[INFO] Opening file from filesystem!\n",
      "[INFO] Opening file from filesystem!\n",
      "[INFO] Opening file from filesystem!\n",
      "[INFO] Opening file from filesystem!\n",
      "[INFO] Opening file from filesystem!\n",
      "[INFO] Opening file from filesystem!\n",
      "[INFO] Opening file from filesystem!\n",
      "[INFO] Opening file from filesystem!\n"
     ]
    },
    {
     "name": "stdout",
     "output_type": "stream",
     "text": [
      "file count: 64\n",
      "skipped, no SliceLocation: 0\n"
     ]
    }
   ],
   "source": [
    "# load the DICOM files\n",
    "files = []\n",
    "for file in scan.files.values():\n",
    "    if file.uri.endswith(\"dcm\"):\n",
    "        files.append(pydicom.dcmread(file.open()))\n",
    "        \n",
    "print(\"file count: {}\".format(len(files)))\n",
    "\n",
    "# skip files with no SliceLocation (eg scout views)\n",
    "slices = []\n",
    "skipcount = 0\n",
    "for f in files:\n",
    "    if hasattr(f, 'SliceLocation'):\n",
    "        slices.append(f)\n",
    "    else:\n",
    "        skipcount = skipcount + 1\n",
    "\n",
    "print(\"skipped, no SliceLocation: {}\".format(skipcount))\n",
    "\n",
    "# ensure they are in the correct order\n",
    "slices = sorted(slices, key=lambda s: s.SliceLocation)\n",
    "\n",
    "# pixel aspects, assuming all slices are the same\n",
    "ps = slices[0].PixelSpacing\n",
    "ss = slices[0].SliceThickness\n",
    "ax_aspect = ps[1]/ps[0]\n",
    "sag_aspect = ps[1]/ss\n",
    "cor_aspect = ss/ps[0]\n",
    "\n",
    "# create 3D array\n",
    "img_shape = list(slices[0].pixel_array.shape)\n",
    "img_shape.append(len(slices))\n",
    "img3d = np.zeros(img_shape)\n",
    "\n",
    "# fill 3D array with the images from the files\n",
    "for i, s in enumerate(slices):\n",
    "    img2d = s.pixel_array\n",
    "    img3d[:, :, i] = img2d\n",
    "\n",
    "\n",
    "def browse_images_ax(img3d, img_shape, ax_aspect):\n",
    "    n = img_shape[2]\n",
    "    def view_image(i):\n",
    "        a = plt.subplot()\n",
    "        plt.imshow(img3d[:, :, i], cmap=plt.cm.bone, interpolation='nearest')\n",
    "        a.set_aspect(ax_aspect)\n",
    "        plt.title('Image: %s' % i)\n",
    "        plt.show()\n",
    "    interact(view_image, i=(0,n-1))\n",
    "    \n",
    "def browse_images_sag(img3d, img_shape, sag_aspect):\n",
    "    n = img_shape[1]\n",
    "    def view_image(i):\n",
    "        a = plt.subplot()\n",
    "        rotated_img = ndimage.rotate(img3d[:, i, :], 90)\n",
    "        plt.imshow(rotated_img, cmap=plt.cm.bone, interpolation='nearest')\n",
    "        a.set_aspect(1/sag_aspect)\n",
    "        plt.title('Image: %s' % i)\n",
    "        plt.show()\n",
    "    interact(view_image, i=(0,n-1))  \n",
    "    \n",
    "def browse_images_cor(img3d, img_shape, cor_aspect):\n",
    "    n = img_shape[0]\n",
    "    def view_image(i):\n",
    "        a = plt.subplot()\n",
    "        rotated_img = ndimage.rotate(img3d[i, :, :].T, 180)\n",
    "        plt.imshow(rotated_img, cmap=plt.cm.bone, interpolation='nearest')\n",
    "        a.set_aspect(cor_aspect)\n",
    "        plt.title('Image: %s' % i)\n",
    "        plt.show()\n",
    "    interact(view_image, i=(0,n-1))  "
   ]
  },
  {
   "cell_type": "markdown",
   "id": "3bbed722-6198-4b7a-912e-da389ac60cdf",
   "metadata": {},
   "source": [
    "Notice the log message! XNATpy version 0.4.3 has been updated to support the XNAT/Jupyter integration. XNATpy understands the layout of the XNAT/Jupyter filesystem. If XNATpy can find your data on the filesystem it will use that instead of attempting to download from XNAT."
   ]
  },
  {
   "cell_type": "code",
   "execution_count": 10,
   "id": "f85f4cad-5dd8-40fd-8935-c13e08a7597f",
   "metadata": {},
   "outputs": [
    {
     "data": {
      "application/vnd.jupyter.widget-view+json": {
       "model_id": "2b712a71064142c484323ba1cf75ab09",
       "version_major": 2,
       "version_minor": 0
      },
      "text/plain": [
       "interactive(children=(IntSlider(value=31, description='i', max=63), Output()), _dom_classes=('widget-interact'…"
      ]
     },
     "metadata": {},
     "output_type": "display_data"
    },
    {
     "data": {
      "application/vnd.jupyter.widget-view+json": {
       "model_id": "537dffc7b303466a9eb8dd96f12bb775",
       "version_major": 2,
       "version_minor": 0
      },
      "text/plain": [
       "interactive(children=(IntSlider(value=255, description='i', max=511), Output()), _dom_classes=('widget-interac…"
      ]
     },
     "metadata": {},
     "output_type": "display_data"
    },
    {
     "data": {
      "application/vnd.jupyter.widget-view+json": {
       "model_id": "490a330be83c447f8f2fd47fdc8560f8",
       "version_major": 2,
       "version_minor": 0
      },
      "text/plain": [
       "interactive(children=(IntSlider(value=255, description='i', max=511), Output()), _dom_classes=('widget-interac…"
      ]
     },
     "metadata": {},
     "output_type": "display_data"
    }
   ],
   "source": [
    "browse_images_ax(img3d, img_shape, ax_aspect)\n",
    "browse_images_sag(img3d, img_shape, sag_aspect)\n",
    "browse_images_cor(img3d, img_shape, cor_aspect)"
   ]
  },
  {
   "cell_type": "code",
   "execution_count": null,
   "id": "2d7fe007-d8d6-4b79-b118-6a78c37159aa",
   "metadata": {},
   "outputs": [],
   "source": []
  }
 ],
 "metadata": {
  "kernelspec": {
   "display_name": "Python 3 (ipykernel)",
   "language": "python",
   "name": "python3"
  },
  "language_info": {
   "codemirror_mode": {
    "name": "ipython",
    "version": 3
   },
   "file_extension": ".py",
   "mimetype": "text/x-python",
   "name": "python",
   "nbconvert_exporter": "python",
   "pygments_lexer": "ipython3",
   "version": "3.10.6"
  }
 },
 "nbformat": 4,
 "nbformat_minor": 5
}
