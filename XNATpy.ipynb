{
 "cells": [
  {
   "cell_type": "markdown",
   "id": "ea98eb4a-2f05-4d20-a091-4fabe09e7f38",
   "metadata": {},
   "source": [
    "# XNATpy\n",
    "\n",
    "**XNATpy** is an XNAT client that exposes XNAT objects/functions as python objects/functions. The notebook provides a quick overview of using XNATpy. More information is availble in the [official documentation](https://xnat.readthedocs.io/en/latest/). "
   ]
  },
  {
   "cell_type": "markdown",
   "id": "50c9f19a-a17d-4097-8cdb-737d4fd23bf0",
   "metadata": {},
   "source": [
    "## Setup"
   ]
  },
  {
   "cell_type": "markdown",
   "id": "6780f16d-d5d2-47a9-8860-2d2e08d6e36f",
   "metadata": {},
   "source": [
    "If XNATpy is not already installed"
   ]
  },
  {
   "cell_type": "code",
   "execution_count": null,
   "id": "44e2e294-d459-47c6-8e79-a00a231ebdce",
   "metadata": {
    "tags": []
   },
   "outputs": [],
   "source": [
    "pip install xnat"
   ]
  },
  {
   "cell_type": "code",
   "execution_count": null,
   "id": "3d16e360-f936-47aa-bcf0-57fbb3b76e2e",
   "metadata": {},
   "outputs": [],
   "source": [
    "import os\n",
    "import xnat"
   ]
  },
  {
   "cell_type": "markdown",
   "id": "9c3530c4-6e74-468d-b033-16e8d626e884",
   "metadata": {},
   "source": [
    "## Connecting to an XNAT server"
   ]
  },
  {
   "cell_type": "markdown",
   "id": "0d2418ff-bbfd-4a71-b243-00a8050eb8d0",
   "metadata": {},
   "source": [
    "When connecting to an XNAT server you start by creating a connection. To avoid storing our credentials in our notebook we can use the XNAT environmental varibales."
   ]
  },
  {
   "cell_type": "code",
   "execution_count": null,
   "id": "98bf6124-eb29-4326-ace9-84c37f93e55c",
   "metadata": {},
   "outputs": [],
   "source": [
    "connection = xnat.connect(os.environ['XNAT_HOST'], \n",
    "                          user=os.environ['XNAT_USER'], \n",
    "                          password=os.environ['XNAT_PASS'])"
   ]
  },
  {
   "cell_type": "markdown",
   "id": "05c12b6c-cba1-4406-b117-4c3112321df9",
   "metadata": {},
   "source": [
    "As of version 0.4.3, XNATpy supports the XNAT/Jupyter envrionment variables. So we can shorten this to"
   ]
  },
  {
   "cell_type": "code",
   "execution_count": null,
   "id": "39c73f6e-98df-4d29-ad4c-8740f0aeeeca",
   "metadata": {},
   "outputs": [],
   "source": [
    "connection = xnat.connect()"
   ]
  },
  {
   "cell_type": "markdown",
   "id": "4c1c6b4b-c011-493b-93f3-a5c5d7ea02b2",
   "metadata": {},
   "source": [
    "## Exploring your XNAT server\n",
    "\n",
    "When a session is established, it is fairly easy to explore the data on the XNAT server. The data structure of XNAT is mimicked as Python objects. The connection gives access to a listing of all projects, subjects, and experiments on the server."
   ]
  },
  {
   "cell_type": "code",
   "execution_count": null,
   "id": "de48efd6-48e1-421e-884e-219801bd6d2d",
   "metadata": {},
   "outputs": [],
   "source": [
    "connection.projects"
   ]
  },
  {
   "cell_type": "markdown",
   "id": "f8109483-fb70-482b-bfd4-4154ffbd9a38",
   "metadata": {},
   "source": [
    "The XNATListing is a special type of mapping in which you can access elements by a primary key (usually the ID or Accession #) and a secondary key (e.g. the label for a subject or experiment). Selection can be performed the same as a Python dict."
   ]
  },
  {
   "cell_type": "code",
   "execution_count": null,
   "id": "030746a2-2295-448d-87a4-1c880bed6c45",
   "metadata": {},
   "outputs": [],
   "source": [
    "project = connection.projects[0] # or connection.projects[\"C4KC-KiTS\"]\n",
    "project.subjects"
   ]
  },
  {
   "cell_type": "markdown",
   "id": "e501f432-f8f9-4110-9166-1d6d3bf419cd",
   "metadata": {},
   "source": [
    "## Building an image viewer\n",
    "\n",
    "Based on pydicom example [Load CT slices and plot axial, sagittal and coronal images](https://pydicom.github.io/pydicom/stable/auto_examples/image_processing/reslice.html#sphx-glr-auto-examples-image-processing-reslice-py)\n",
    "\n",
    "This example illustrates loading a scan with XNATpy and pydicom, building a 3D image, and reslicing it in different planes. We will also demostrate the new XNATpy support for the XNAT/Jupyter file system!"
   ]
  },
  {
   "cell_type": "code",
   "execution_count": null,
   "id": "cc59d0ff-b5aa-488d-ad26-66e489272eb2",
   "metadata": {},
   "outputs": [],
   "source": [
    "import pydicom\n",
    "import numpy as np\n",
    "import matplotlib.pyplot as plt\n",
    "import sys\n",
    "import glob\n",
    "import xnat\n",
    "import time\n",
    "import os\n",
    "\n",
    "from ipywidgets import interact\n",
    "from scipy import ndimage"
   ]
  },
  {
   "cell_type": "markdown",
   "id": "a39e94f4-d411-4446-bfd3-0cd4628b405d",
   "metadata": {},
   "source": [
    "Modify this for your project / subject / experiment / dicom scan"
   ]
  },
  {
   "cell_type": "code",
   "execution_count": null,
   "id": "4adeaabf-2ed8-4f17-931c-be3d6d3ecf7e",
   "metadata": {},
   "outputs": [],
   "source": [
    "session = xnat.connect(loglevel='INFO')\n",
    "project = session.projects['C4KC-KiTS']\n",
    "subject = project.subjects['KiTS-00004']\n",
    "experiment = subject.experiments['KiTS-00004_CT_1']\n",
    "scan = experiment.scans['7']"
   ]
  },
  {
   "cell_type": "code",
   "execution_count": null,
   "id": "9d878600-4228-4d79-936a-6a052bd74a07",
   "metadata": {},
   "outputs": [],
   "source": [
    "# load the DICOM files\n",
    "files = []\n",
    "for file in scan.files.values():\n",
    "    if file.uri.endswith(\"dcm\"):\n",
    "        files.append(pydicom.dcmread(file.open()))\n",
    "        \n",
    "print(\"file count: {}\".format(len(files)))\n",
    "\n",
    "# skip files with no SliceLocation (eg scout views)\n",
    "slices = []\n",
    "skipcount = 0\n",
    "for f in files:\n",
    "    if hasattr(f, 'SliceLocation'):\n",
    "        slices.append(f)\n",
    "    else:\n",
    "        skipcount = skipcount + 1\n",
    "\n",
    "print(\"skipped, no SliceLocation: {}\".format(skipcount))\n",
    "\n",
    "# ensure they are in the correct order\n",
    "slices = sorted(slices, key=lambda s: s.SliceLocation)\n",
    "\n",
    "# pixel aspects, assuming all slices are the same\n",
    "ps = slices[0].PixelSpacing\n",
    "ss = slices[0].SliceThickness\n",
    "ax_aspect = ps[1]/ps[0]\n",
    "sag_aspect = ps[1]/ss\n",
    "cor_aspect = ss/ps[0]\n",
    "\n",
    "# create 3D array\n",
    "img_shape = list(slices[0].pixel_array.shape)\n",
    "img_shape.append(len(slices))\n",
    "img3d = np.zeros(img_shape)\n",
    "\n",
    "# fill 3D array with the images from the files\n",
    "for i, s in enumerate(slices):\n",
    "    img2d = s.pixel_array\n",
    "    img3d[:, :, i] = img2d\n",
    "\n",
    "\n",
    "def browse_images_ax(img3d, img_shape, ax_aspect):\n",
    "    n = img_shape[2]\n",
    "    def view_image(i):\n",
    "        a = plt.subplot()\n",
    "        plt.imshow(img3d[:, :, i], cmap=plt.cm.bone, interpolation='nearest')\n",
    "        a.set_aspect(ax_aspect)\n",
    "        plt.title('Image: %s' % i)\n",
    "        plt.show()\n",
    "    interact(view_image, i=(0,n-1))\n",
    "    \n",
    "def browse_images_sag(img3d, img_shape, sag_aspect):\n",
    "    n = img_shape[1]\n",
    "    def view_image(i):\n",
    "        a = plt.subplot()\n",
    "        rotated_img = ndimage.rotate(img3d[:, i, :], 90)\n",
    "        plt.imshow(rotated_img, cmap=plt.cm.bone, interpolation='nearest')\n",
    "        a.set_aspect(1/sag_aspect)\n",
    "        plt.title('Image: %s' % i)\n",
    "        plt.show()\n",
    "    interact(view_image, i=(0,n-1))  \n",
    "    \n",
    "def browse_images_cor(img3d, img_shape, cor_aspect):\n",
    "    n = img_shape[0]\n",
    "    def view_image(i):\n",
    "        a = plt.subplot()\n",
    "        rotated_img = ndimage.rotate(img3d[i, :, :].T, 180)\n",
    "        plt.imshow(rotated_img, cmap=plt.cm.bone, interpolation='nearest')\n",
    "        a.set_aspect(cor_aspect)\n",
    "        plt.title('Image: %s' % i)\n",
    "        plt.show()\n",
    "    interact(view_image, i=(0,n-1))  "
   ]
  },
  {
   "cell_type": "markdown",
   "id": "3bbed722-6198-4b7a-912e-da389ac60cdf",
   "metadata": {},
   "source": [
    "Notice the log message! XNATpy version 0.4.3 has been updated to support the XNAT/Jupyter integration. XNATpy understands the layout of the XNAT/Jupyter filesystem. If XNATpy can find your data on the filesystem it will use that instead of attempting to download from XNAT."
   ]
  },
  {
   "cell_type": "code",
   "execution_count": null,
   "id": "f85f4cad-5dd8-40fd-8935-c13e08a7597f",
   "metadata": {},
   "outputs": [],
   "source": [
    "browse_images_ax(img3d, img_shape, ax_aspect)\n",
    "browse_images_sag(img3d, img_shape, sag_aspect)\n",
    "browse_images_cor(img3d, img_shape, cor_aspect)"
   ]
  },
  {
   "cell_type": "code",
   "execution_count": null,
   "id": "2d7fe007-d8d6-4b79-b118-6a78c37159aa",
   "metadata": {},
   "outputs": [],
   "source": []
  }
 ],
 "metadata": {
  "kernelspec": {
   "display_name": "Python 3 (ipykernel)",
   "language": "python",
   "name": "python3"
  },
  "language_info": {
   "codemirror_mode": {
    "name": "ipython",
    "version": 3
   },
   "file_extension": ".py",
   "mimetype": "text/x-python",
   "name": "python",
   "nbconvert_exporter": "python",
   "pygments_lexer": "ipython3",
   "version": "3.10.6"
  }
 },
 "nbformat": 4,
 "nbformat_minor": 5
}
