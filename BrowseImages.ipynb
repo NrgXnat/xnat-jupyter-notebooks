{
 "cells": [
  {
   "cell_type": "markdown",
   "id": "ea98eb4a-2f05-4d20-a091-4fabe09e7f38",
   "metadata": {},
   "source": [
    "# Browse DICOM Images\n",
    "\n",
    "This Jupyter Notebook demonstrates an interactive image viewer for browsing DICOM images in axial, sagittal, and coronal views. The notebook utilizes the [XNATpy](https://xnat.readthedocs.io/en/latest/) library along with [pydicom](https://pydicom.github.io/pydicom/stable/) to load DICOM data from XNAT. With the help of XNATpy, you can easily retrieve DICOM files from the XNAT mounts directly on your Jupyter server, and the pydicom library is used for parsing and processing DICOM data."
   ]
  },
  {
   "cell_type": "markdown",
   "id": "6780f16d-d5d2-47a9-8860-2d2e08d6e36f",
   "metadata": {},
   "source": [
    "If XNATpy is not already installed in your environment"
   ]
  },
  {
   "cell_type": "code",
   "execution_count": 1,
   "id": "44e2e294-d459-47c6-8e79-a00a231ebdce",
   "metadata": {
    "tags": []
   },
   "outputs": [],
   "source": [
    "!python -c \"import xnat\" || pip install -q \"xnat==0.4.3\""
   ]
  },
  {
   "cell_type": "code",
   "execution_count": 2,
   "id": "cc59d0ff-b5aa-488d-ad26-66e489272eb2",
   "metadata": {},
   "outputs": [],
   "source": [
    "import pydicom\n",
    "import numpy as np\n",
    "import matplotlib.pyplot as plt\n",
    "import sys\n",
    "import glob\n",
    "import xnat\n",
    "import time\n",
    "import os\n",
    "\n",
    "from ipywidgets import interact\n",
    "from scipy import ndimage"
   ]
  },
  {
   "cell_type": "markdown",
   "id": "0d2418ff-bbfd-4a71-b243-00a8050eb8d0",
   "metadata": {},
   "source": [
    "When connecting to an XNAT server you start by creating a connection. To avoid storing our credentials in our notebook we can use the XNAT environmental variables add to your Jupyter server."
   ]
  },
  {
   "cell_type": "code",
   "execution_count": 3,
   "id": "98bf6124-eb29-4326-ace9-84c37f93e55c",
   "metadata": {},
   "outputs": [],
   "source": [
    "connection = xnat.connect(os.environ['XNAT_HOST'], \n",
    "                          user=os.environ['XNAT_USER'], \n",
    "                          password=os.environ['XNAT_PASS'])"
   ]
  },
  {
   "cell_type": "markdown",
   "id": "05c12b6c-cba1-4406-b117-4c3112321df9",
   "metadata": {},
   "source": [
    "As of version 0.4.3, XNATpy supports the XNAT/Jupyter envrionment variables so we can shorten this to:"
   ]
  },
  {
   "cell_type": "code",
   "execution_count": 4,
   "id": "39c73f6e-98df-4d29-ad4c-8740f0aeeeca",
   "metadata": {},
   "outputs": [],
   "source": [
    "connection = xnat.connect()"
   ]
  },
  {
   "cell_type": "markdown",
   "id": "a39e94f4-d411-4446-bfd3-0cd4628b405d",
   "metadata": {},
   "source": [
    "Update the code cell below for your particular project, experiment and scan."
   ]
  },
  {
   "cell_type": "code",
   "execution_count": 5,
   "id": "4adeaabf-2ed8-4f17-931c-be3d6d3ecf7e",
   "metadata": {},
   "outputs": [
    {
     "name": "stderr",
     "output_type": "stream",
     "text": [
      "[INFO] Token login successfully as andrewl\n",
      "[INFO] GET URI https://xnat.pixi.org/data/JSESSION\n",
      "[INFO] Determining XNAT version\n",
      "[INFO] GET URI https://xnat.pixi.org/data/version\n",
      "[INFO] GET URI https://xnat.pixi.org/xapi/siteConfig/buildInfo?format=json\n",
      "[INFO] Found an 1.8 version (1.8.8.1)\n",
      "[INFO] Start parsing schemas and building object model\n",
      "[INFO] GET URI https://xnat.pixi.org/xapi/schemas?format=json\n",
      "[INFO] GET URI https://xnat.pixi.org/xapi/schemas/pixi\n",
      "[INFO] GET URI https://xnat.pixi.org/xapi/schemas/security\n",
      "[INFO] GET URI https://xnat.pixi.org/xapi/schemas/roi\n",
      "[INFO] GET URI https://xnat.pixi.org/xapi/schemas/pipeline/repository\n",
      "[INFO] GET URI https://xnat.pixi.org/xapi/schemas/pipeline/workflow\n",
      "[INFO] GET URI https://xnat.pixi.org/xapi/schemas/pipeline/build\n",
      "[INFO] GET URI https://xnat.pixi.org/xapi/schemas/birn/birnprov\n",
      "[INFO] GET URI https://xnat.pixi.org/xapi/schemas/assessments\n",
      "[INFO] GET URI https://xnat.pixi.org/xapi/schemas/xdat\n",
      "[INFO] GET URI https://xnat.pixi.org/xapi/schemas/xdat/display\n",
      "[INFO] GET URI https://xnat.pixi.org/xapi/schemas/xdat/PlexiViewer\n",
      "[INFO] GET URI https://xnat.pixi.org/xapi/schemas/xdat/instance\n",
      "[INFO] GET URI https://xnat.pixi.org/xapi/schemas/xnat\n",
      "[INFO] GET URI https://xnat.pixi.org/xapi/schemas/catalog\n",
      "[INFO] GET URI https://xnat.pixi.org/xapi/schemas/project\n",
      "[INFO] GET URI https://xnat.pixi.org/xapi/schemas/validation/protocolValidation\n",
      "[INFO] GET URI https://xnat.pixi.org/xapi/schemas/screening/screeningAssessment\n",
      "[INFO] Pruning data structure\n",
      "[INFO] Writing result\n",
      "[INFO] Object model created successfully\n",
      "[INFO] GET URI https://xnat.pixi.org/data/archive/projects?columns=ID%2CURI%2Cname&format=json\n",
      "[INFO] GET URI https://xnat.pixi.org/data/archive/projects/C4KC-KiTS/experiments?columns=ID%2CURI%2Clabel%2CxsiType&format=json\n",
      "[INFO] GET URI https://xnat.pixi.org/data/archive/projects/C4KC-KiTS/experiments/PIXI35_E06113?format=json\n",
      "[INFO] GET URI https://xnat.pixi.org/data/archive/projects/C4KC-KiTS/subjects/PIXI35_S06104/experiments/PIXI35_E06113/scans?columns=ID%2CURI%2Ctype%2CxsiType&format=json\n"
     ]
    }
   ],
   "source": [
    "session = xnat.connect(loglevel='INFO')\n",
    "project = session.projects['C4KC-KiTS']\n",
    "experiment = project.experiments['KiTS-00000_CT_1']\n",
    "scan = experiment.scans['5']"
   ]
  },
  {
   "cell_type": "markdown",
   "id": "dd885ba0-cedb-4daa-bab6-bd11b7f38d01",
   "metadata": {},
   "source": [
    "Next load the DICOM files, sort them by slice location, build a 3d image, and create a widget for each view."
   ]
  },
  {
   "cell_type": "code",
   "execution_count": 6,
   "id": "9d878600-4228-4d79-936a-6a052bd74a07",
   "metadata": {},
   "outputs": [
    {
     "name": "stderr",
     "output_type": "stream",
     "text": [
      "[INFO] GET URI https://xnat.pixi.org/data/archive/projects/C4KC-KiTS/subjects/PIXI35_S06104/experiments/PIXI35_E06113/scans/5/files?columns=ID%2CURI%2Cpath&format=json\n",
      "[INFO] GET URI https://xnat.pixi.org/data/experiments/PIXI35_E06113/scans/5/resources/7599?format=json\n",
      "[INFO] GET URI https://xnat.pixi.org/data/experiments/PIXI35_E06113/scans/5/resources?format=json\n",
      "[INFO] GET URI https://xnat.pixi.org/data/experiments/PIXI35_E06113/scans/5?format=json\n",
      "[INFO] GET URI https://xnat.pixi.org/data/experiments/PIXI35_E06113?format=json\n",
      "[INFO] GET URI https://xnat.pixi.org/data/experiments/PIXI35_E06113?format=json\n",
      "[INFO] GET URI https://xnat.pixi.org/data/experiments/PIXI35_E06113/scans/5?format=json\n",
      "[INFO] GET URI https://xnat.pixi.org/data/experiments/PIXI35_E06113/scans/5/resources/7599?format=json\n",
      "[INFO] GET URI https://xnat.pixi.org/data/experiments/PIXI35_E06113/scans/5/resources?format=json\n",
      "[INFO] Opening file from filesystem!\n",
      "[INFO] Opening file from filesystem!\n",
      "[INFO] Opening file from filesystem!\n",
      "[INFO] Opening file from filesystem!\n",
      "[INFO] Opening file from filesystem!\n",
      "[INFO] Opening file from filesystem!\n",
      "[INFO] Opening file from filesystem!\n",
      "[INFO] Opening file from filesystem!\n",
      "[INFO] Opening file from filesystem!\n",
      "[INFO] Opening file from filesystem!\n",
      "[INFO] Opening file from filesystem!\n",
      "[INFO] Opening file from filesystem!\n",
      "[INFO] Opening file from filesystem!\n",
      "[INFO] Opening file from filesystem!\n",
      "[INFO] Opening file from filesystem!\n",
      "[INFO] Opening file from filesystem!\n",
      "[INFO] Opening file from filesystem!\n",
      "[INFO] Opening file from filesystem!\n",
      "[INFO] Opening file from filesystem!\n",
      "[INFO] Opening file from filesystem!\n",
      "[INFO] Opening file from filesystem!\n",
      "[INFO] Opening file from filesystem!\n",
      "[INFO] Opening file from filesystem!\n",
      "[INFO] Opening file from filesystem!\n",
      "[INFO] Opening file from filesystem!\n",
      "[INFO] Opening file from filesystem!\n",
      "[INFO] Opening file from filesystem!\n",
      "[INFO] Opening file from filesystem!\n",
      "[INFO] Opening file from filesystem!\n",
      "[INFO] Opening file from filesystem!\n",
      "[INFO] Opening file from filesystem!\n",
      "[INFO] Opening file from filesystem!\n",
      "[INFO] Opening file from filesystem!\n",
      "[INFO] Opening file from filesystem!\n",
      "[INFO] Opening file from filesystem!\n",
      "[INFO] Opening file from filesystem!\n",
      "[INFO] Opening file from filesystem!\n",
      "[INFO] Opening file from filesystem!\n",
      "[INFO] Opening file from filesystem!\n",
      "[INFO] Opening file from filesystem!\n",
      "[INFO] Opening file from filesystem!\n",
      "[INFO] Opening file from filesystem!\n",
      "[INFO] Opening file from filesystem!\n",
      "[INFO] Opening file from filesystem!\n",
      "[INFO] Opening file from filesystem!\n",
      "[INFO] Opening file from filesystem!\n",
      "[INFO] Opening file from filesystem!\n",
      "[INFO] Opening file from filesystem!\n",
      "[INFO] Opening file from filesystem!\n",
      "[INFO] Opening file from filesystem!\n",
      "[INFO] Opening file from filesystem!\n",
      "[INFO] Opening file from filesystem!\n",
      "[INFO] Opening file from filesystem!\n",
      "[INFO] Opening file from filesystem!\n",
      "[INFO] Opening file from filesystem!\n",
      "[INFO] Opening file from filesystem!\n",
      "[INFO] Opening file from filesystem!\n",
      "[INFO] Opening file from filesystem!\n",
      "[INFO] Opening file from filesystem!\n",
      "[INFO] Opening file from filesystem!\n",
      "[INFO] Opening file from filesystem!\n",
      "[INFO] Opening file from filesystem!\n",
      "[INFO] Opening file from filesystem!\n",
      "[INFO] Opening file from filesystem!\n",
      "[INFO] Opening file from filesystem!\n",
      "[INFO] Opening file from filesystem!\n",
      "[INFO] Opening file from filesystem!\n",
      "[INFO] Opening file from filesystem!\n",
      "[INFO] Opening file from filesystem!\n",
      "[INFO] Opening file from filesystem!\n",
      "[INFO] Opening file from filesystem!\n",
      "[INFO] Opening file from filesystem!\n",
      "[INFO] Opening file from filesystem!\n",
      "[INFO] Opening file from filesystem!\n",
      "[INFO] Opening file from filesystem!\n",
      "[INFO] Opening file from filesystem!\n",
      "[INFO] Opening file from filesystem!\n",
      "[INFO] Opening file from filesystem!\n",
      "[INFO] Opening file from filesystem!\n",
      "[INFO] Opening file from filesystem!\n",
      "[INFO] Opening file from filesystem!\n",
      "[INFO] Opening file from filesystem!\n",
      "[INFO] Opening file from filesystem!\n",
      "[INFO] Opening file from filesystem!\n",
      "[INFO] Opening file from filesystem!\n",
      "[INFO] Opening file from filesystem!\n",
      "[INFO] Opening file from filesystem!\n",
      "[INFO] Opening file from filesystem!\n",
      "[INFO] Opening file from filesystem!\n",
      "[INFO] Opening file from filesystem!\n",
      "[INFO] Opening file from filesystem!\n",
      "[INFO] Opening file from filesystem!\n",
      "[INFO] Opening file from filesystem!\n"
     ]
    },
    {
     "name": "stdout",
     "output_type": "stream",
     "text": [
      "file count: 93\n",
      "skipped, no SliceLocation: 0\n"
     ]
    }
   ],
   "source": [
    "# load the DICOM files\n",
    "files = []\n",
    "for file in scan.files.values():\n",
    "    if file.uri.endswith(\"dcm\"):\n",
    "        files.append(pydicom.dcmread(file.open()))\n",
    "        \n",
    "print(\"file count: {}\".format(len(files)))\n",
    "\n",
    "# skip files with no SliceLocation (eg scout views)\n",
    "slices = []\n",
    "skipcount = 0\n",
    "for f in files:\n",
    "    if hasattr(f, 'SliceLocation'):\n",
    "        slices.append(f)\n",
    "    else:\n",
    "        skipcount = skipcount + 1\n",
    "\n",
    "print(\"skipped, no SliceLocation: {}\".format(skipcount))\n",
    "\n",
    "# ensure they are in the correct order\n",
    "slices = sorted(slices, key=lambda s: s.SliceLocation)\n",
    "\n",
    "# pixel aspects, assuming all slices are the same\n",
    "ps = slices[0].PixelSpacing\n",
    "ss = slices[0].SliceThickness\n",
    "ax_aspect = ps[1]/ps[0]\n",
    "sag_aspect = ps[1]/ss\n",
    "cor_aspect = ss/ps[0]\n",
    "\n",
    "# create 3D array\n",
    "img_shape = list(slices[0].pixel_array.shape)\n",
    "img_shape.append(len(slices))\n",
    "img3d = np.zeros(img_shape)\n",
    "\n",
    "# fill 3D array with the images from the files\n",
    "for i, s in enumerate(slices):\n",
    "    img2d = s.pixel_array\n",
    "    img3d[:, :, i] = img2d\n",
    "\n",
    "\n",
    "def browse_images_ax(img3d, img_shape, ax_aspect):\n",
    "    n = img_shape[2]\n",
    "    def view_image(i):\n",
    "        a = plt.subplot()\n",
    "        plt.imshow(img3d[:, :, i], cmap=plt.cm.bone, interpolation='nearest')\n",
    "        a.set_aspect(ax_aspect)\n",
    "        plt.title('Image: %s' % i)\n",
    "        plt.show()\n",
    "    interact(view_image, i=(0,n-1))\n",
    "    \n",
    "def browse_images_sag(img3d, img_shape, sag_aspect):\n",
    "    n = img_shape[1]\n",
    "    def view_image(i):\n",
    "        a = plt.subplot()\n",
    "        rotated_img = ndimage.rotate(img3d[:, i, :], 90)\n",
    "        plt.imshow(rotated_img, cmap=plt.cm.bone, interpolation='nearest')\n",
    "        a.set_aspect(1/sag_aspect)\n",
    "        plt.title('Image: %s' % i)\n",
    "        plt.show()\n",
    "    interact(view_image, i=(0,n-1))  \n",
    "    \n",
    "def browse_images_cor(img3d, img_shape, cor_aspect):\n",
    "    n = img_shape[0]\n",
    "    def view_image(i):\n",
    "        a = plt.subplot()\n",
    "        rotated_img = ndimage.rotate(img3d[i, :, :].T, 180)\n",
    "        plt.imshow(rotated_img, cmap=plt.cm.bone, interpolation='nearest')\n",
    "        a.set_aspect(cor_aspect)\n",
    "        plt.title('Image: %s' % i)\n",
    "        plt.show()\n",
    "    interact(view_image, i=(0,n-1))  "
   ]
  },
  {
   "cell_type": "markdown",
   "id": "3bbed722-6198-4b7a-912e-da389ac60cdf",
   "metadata": {},
   "source": [
    "Notice the log message. XNATpy understands the layout of the XNAT/Jupyter filesystem. If XNATpy can find your data on the filesystem it will use that instead of attempting to download from XNAT."
   ]
  },
  {
   "cell_type": "code",
   "execution_count": 7,
   "id": "f85f4cad-5dd8-40fd-8935-c13e08a7597f",
   "metadata": {},
   "outputs": [
    {
     "data": {
      "application/vnd.jupyter.widget-view+json": {
       "model_id": "aaf942850c7f450b91981b7613d7745a",
       "version_major": 2,
       "version_minor": 0
      },
      "text/plain": [
       "interactive(children=(IntSlider(value=46, description='i', max=92), Output()), _dom_classes=('widget-interact'…"
      ]
     },
     "metadata": {},
     "output_type": "display_data"
    },
    {
     "data": {
      "application/vnd.jupyter.widget-view+json": {
       "model_id": "b10ccffb014b40029c3a27e71175e9f3",
       "version_major": 2,
       "version_minor": 0
      },
      "text/plain": [
       "interactive(children=(IntSlider(value=255, description='i', max=511), Output()), _dom_classes=('widget-interac…"
      ]
     },
     "metadata": {},
     "output_type": "display_data"
    },
    {
     "data": {
      "application/vnd.jupyter.widget-view+json": {
       "model_id": "652cc3b15a564820be3822d80af71914",
       "version_major": 2,
       "version_minor": 0
      },
      "text/plain": [
       "interactive(children=(IntSlider(value=255, description='i', max=511), Output()), _dom_classes=('widget-interac…"
      ]
     },
     "metadata": {},
     "output_type": "display_data"
    }
   ],
   "source": [
    "browse_images_ax(img3d, img_shape, ax_aspect)\n",
    "browse_images_sag(img3d, img_shape, sag_aspect)\n",
    "browse_images_cor(img3d, img_shape, cor_aspect)"
   ]
  }
 ],
 "metadata": {
  "kernelspec": {
   "display_name": "Python 3 (ipykernel)",
   "language": "python",
   "name": "python3"
  },
  "language_info": {
   "codemirror_mode": {
    "name": "ipython",
    "version": 3
   },
   "file_extension": ".py",
   "mimetype": "text/x-python",
   "name": "python",
   "nbconvert_exporter": "python",
   "pygments_lexer": "ipython3",
   "version": "3.10.8"
  }
 },
 "nbformat": 4,
 "nbformat_minor": 5
}
