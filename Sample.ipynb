{
 "cells": [
  {
   "cell_type": "markdown",
   "id": "c90721a6-38e9-4766-aa6e-9605a45633f9",
   "metadata": {},
   "source": [
    "# Sample Notebook\n",
    "\n"
   ]
  },
  {
   "cell_type": "markdown",
   "id": "fcba84f8-cf5f-46ef-9222-bf476e027501",
   "metadata": {},
   "source": [
    "Welcome!"
   ]
  },
  {
   "cell_type": "markdown",
   "id": "ffc8cb02-5229-4ff5-8293-db672a14071a",
   "metadata": {},
   "source": [
    "## Imports"
   ]
  },
  {
   "cell_type": "code",
   "execution_count": 1,
   "id": "44fd8bf2-395a-4d5b-8270-0e2fdb2130b8",
   "metadata": {},
   "outputs": [],
   "source": [
    "import os\n",
    "import requests"
   ]
  },
  {
   "cell_type": "markdown",
   "id": "61403cb8-f0ad-4dd6-afbe-d39c587944dd",
   "metadata": {},
   "source": [
    "## Environmental Variables"
   ]
  },
  {
   "cell_type": "markdown",
   "id": "d9926f7f-deac-4f4e-844a-cec7206deb6d",
   "metadata": {},
   "source": [
    "XNAT adds environmental variables to the single-user Jupyter containers to:\n",
    "\n",
    "  1. Identify the XNAT context in which Jupyter was started\n",
    "  2. Connect back to XNAT's REST API from inside the container\n",
    "  \n",
    "Let's print out these environmental variables:"
   ]
  },
  {
   "cell_type": "code",
   "execution_count": null,
   "id": "f2b0c15c-5a87-4d53-98ee-3f8257b2c69f",
   "metadata": {
    "tags": []
   },
   "outputs": [],
   "source": [
    "for name, value in os.environ.items():\n",
    "    if 'XNAT' in name:\n",
    "        print(\"{0}: {1}\".format(name, value))"
   ]
  },
  {
   "cell_type": "markdown",
   "id": "bfc66ec9-e729-4798-aca2-be3f9656610e",
   "metadata": {},
   "source": [
    "The XNAT_HOST, XNAT_USER and XNAT_PASS environmental variables can be used to make a connect back to XNAT's REST API"
   ]
  },
  {
   "cell_type": "markdown",
   "id": "d3f7b5a5-3bb1-4fe5-8643-fb3ffabd5b51",
   "metadata": {},
   "source": [
    "JupyterHub also adds some environmental variables you might find helpful"
   ]
  },
  {
   "cell_type": "code",
   "execution_count": null,
   "id": "e51c9424-2b0e-4c32-8f04-3e4ba5427988",
   "metadata": {},
   "outputs": [],
   "source": [
    "for name, value in os.environ.items():\n",
    "    if 'JUPYTER' in name:\n",
    "        print(\"{0}: {1}\".format(name, value))"
   ]
  },
  {
   "cell_type": "markdown",
   "id": "9c70aba5-08ec-4d4a-9b1a-e2e9ab1a0dd9",
   "metadata": {},
   "source": [
    "## Navigating the file system"
   ]
  },
  {
   "cell_type": "markdown",
   "id": "8b5c1053-4f3b-459b-a932-2ce1571a551a",
   "metadata": {},
   "source": [
    "When you launch Jupyter from XNAT, under the hood XNAT is gathering a list of mount points that will be used for your single-user Jupyter container. JupyterHub is configured to use Docker bind mounts for exposing parts of the XNAT data archive to a running single-user Jupyter container. The mounts vary depending on the context in which you launched Jupyter. The Jupyter container will also be mounted with a workspace diretory to store your notebooks. Notebooks stored here will persist in between Jupyter sessions. Any data or notebooks stored outside of this workspace directory will be lost when stopping your Jupyter container."
   ]
  },
  {
   "cell_type": "markdown",
   "id": "177f6ee5-32a5-47b4-98e9-271e3bd1dd58",
   "metadata": {},
   "source": [
    "Your workspace directory is located at /workspace/{username}. Here is a helpful env variable"
   ]
  },
  {
   "cell_type": "code",
   "execution_count": null,
   "id": "a30cbc93-c53a-4cad-8e78-63171f8c04c6",
   "metadata": {},
   "outputs": [],
   "source": [
    "os.environ['JUPYTERHUB_ROOT_DIR']"
   ]
  },
  {
   "cell_type": "markdown",
   "id": "e90dc196-70a5-4c89-b852-85b3cf6476e8",
   "metadata": {},
   "source": [
    "Next we will walk the file system to see the XNAT data that's been mounted."
   ]
  },
  {
   "cell_type": "code",
   "execution_count": null,
   "id": "1545913b-ef5b-4463-b7d1-0c074dae065c",
   "metadata": {
    "tags": []
   },
   "outputs": [],
   "source": [
    "i = 0\n",
    "stop = 2\n",
    "for root, dirs, files in os.walk(os.environ['XNAT_DATA'], topdown=False):\n",
    "   for name in files:\n",
    "      print(os.path.join(root, name))\n",
    "   for name in dirs:\n",
    "      print(os.path.join(root, name))\n",
    "        \n",
    "   i = i + 1\n",
    "   if i > stop:\n",
    "       break"
   ]
  },
  {
   "cell_type": "markdown",
   "id": "ebfb13e9-4966-4243-9d98-a42e4e694b68",
   "metadata": {},
   "source": [
    "## Using the XNAT REST API"
   ]
  },
  {
   "cell_type": "code",
   "execution_count": null,
   "id": "7d790d88-694b-4da1-a83b-ea4750606c14",
   "metadata": {},
   "outputs": [],
   "source": []
  }
 ],
 "metadata": {
  "kernelspec": {
   "display_name": "Python 3 (ipykernel)",
   "language": "python",
   "name": "python3"
  },
  "language_info": {
   "codemirror_mode": {
    "name": "ipython",
    "version": 3
   },
   "file_extension": ".py",
   "mimetype": "text/x-python",
   "name": "python",
   "nbconvert_exporter": "python",
   "pygments_lexer": "ipython3",
   "version": "3.10.6"
  }
 },
 "nbformat": 4,
 "nbformat_minor": 5
}
